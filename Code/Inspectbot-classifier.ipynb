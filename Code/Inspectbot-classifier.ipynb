{
 "cells": [
  {
   "cell_type": "code",
   "execution_count": 1,
   "metadata": {
    "collapsed": false,
    "jupyter": {
     "outputs_hidden": false
    }
   },
   "outputs": [],
   "source": [
    "%matplotlib inline"
   ]
  },
  {
   "cell_type": "markdown",
   "metadata": {},
   "source": [
    "https://mail.google.com/mail/u/0/#search/saran?projector=1\n",
    "Speech Command Recognition with torchaudio\n",
    "******************************************\n",
    "\n",
    "This tutorial will show you how to correctly format an audio dataset and\n",
    "then train/test an audio classifier network on the dataset.\n",
    "\n",
    "Colab has GPU option available. In the menu tabs, select “Runtime” then\n",
    "“Change runtime type”. In the pop-up that follows, you can choose GPU.\n",
    "After the change, your runtime should automatically restart (which means\n",
    "information from executed cells disappear).\n",
    "\n",
    "First, let’s import the common torch packages such as\n",
    "`torchaudio <https://github.com/pytorch/audio>`__ that can be installed\n",
    "by following the instructions on the website.\n",
    "\n",
    "\n"
   ]
  },
  {
   "cell_type": "code",
   "execution_count": 1,
   "metadata": {
    "collapsed": false,
    "jupyter": {
     "outputs_hidden": false
    }
   },
   "outputs": [],
   "source": [
    "# Uncomment the line corresponding to your \"runtime type\"+6666666666666666666666\n",
    "# !pip install pydub torch==1.7.0+cpu torchvision==0.8.1+cpu torchaudio==0.7.0 -f https://download.pytorch.org/whl/torch_stable.html\n",
    "\n",
    "# GPU:\n",
    "# !pip install pydub torch==1.7.0+cu101 torchvision==0.8.1+cu101 torchaudio==0.7.0 -f https://download.pytorch.org/whl/torch_stable.html\n",
    "\n",
    "import torch\n",
    "import torch.nn as nn\n",
    "import torch.nn.functional as F\n",
    "import torch.optim as optim\n",
    "import torchaudio\n",
    "import sys\n",
    "\n",
    "import matplotlib.pyplot as plt\n",
    "import IPython.display as ipd\n",
    "\n",
    "from tqdm import tqdm"
   ]
  },
  {
   "cell_type": "markdown",
   "metadata": {},
   "source": [
    "Let’s check if a CUDA GPU is available and select our device. Running\n",
    "the network on a GPU will greatly decrease the training/testing runtime.\n",
    "\n",
    "\n"
   ]
  },
  {
   "cell_type": "code",
   "execution_count": 2,
   "metadata": {
    "collapsed": false,
    "jupyter": {
     "outputs_hidden": false
    }
   },
   "outputs": [
    {
     "name": "stdout",
     "output_type": "stream",
     "text": [
      "cuda\n"
     ]
    },
    {
     "data": {
      "text/plain": [
       "tensor([0.], device='cuda:0')"
      ]
     },
     "execution_count": 2,
     "metadata": {},
     "output_type": "execute_result"
    }
   ],
   "source": [
    "device = torch.device(\"cuda\" if torch.cuda.is_available() else \"cpu\")\n",
    "print(device)\n",
    "torch.zeros(1).cuda()"
   ]
  },
  {
   "cell_type": "markdown",
   "metadata": {},
   "source": [
    "0/119 (0Importing the Dataset\n",
    "---------------------\n",
    "\n",
    "We use torchaudio to download and represent the dataset. Here we use\n",
    "`SpeechCommands <https://arxiv.org/abs/1804.03209>`__, which is a\n",
    "datasets of 35 commands spoken by different people. The dataset\n",
    "``SPEECHCOMMANDS`` is a ``torch.utils.data.Dataset`` version of the\n",
    "dataset. In this dataset, all audio files are about 1 second long (and\n",
    "so about 16000 time frames long).\n",
    "\n",
    "The actual loading and formatting steps happen when a data point is\n",
    "being accessed, and torchaudio takes care of converting the audio files\n",
    "to tensors. If one wants to load an audio file directly instead,\n",
    "``torchaudio.load()`` can be used. It returns a tuple containing the\n",
    "newly created tensor along with the sampling frequency of the audio file\n",
    "(16kHz for SpeechCommands).\n",
    "\n",
    "Going back to the dataset, here we create a subclass that splits it into\n",
    "standard training, validation, testing subsets.\n",
    "\n",
    "\n"
   ]
  },
  {
   "cell_type": "code",
   "execution_count": 3,
   "metadata": {
    "collapsed": false,
    "jupyter": {
     "outputs_hidden": false
    }
   },
   "outputs": [],
   "source": [
    "from torchaudio.datasets import SPEECHCOMMANDS\n",
    "import os\n",
    "import pandas as  pd\n",
    "\n",
    "import re\n",
    "# class SubsetSC(SPEECHCOMMANDS):\n",
    "#     def __init__(self, subset: str = None):\n",
    "#         super().__init__(\"./\", download=True)\n",
    "\n",
    "#         def load_list(filename):\n",
    "#             filepath = os.path.join(self._path, filename)\n",
    "#             with open(filepath) as fileobj:\n",
    "#                 return [os.path.join(self._path, line.strip()) for line in fileobj]\n",
    "\n",
    "#         if subset == \"validation\":\n",
    "#             self._walker = load_list(\"validation_list.txt\")\n",
    "#         elif subset == \"testing\":\n",
    "#             self._walker = load_list(\"testing_list.txt\")\n",
    "#         elif subset == \"training\":\n",
    "#             excludes = load_list(\"validation_list.txt\") + load_list(\"testing_list.txt\")\n",
    "#             excludes = set(excludes)\n",
    "#             self._walker = [w for w in self._walker if w not in excludes]\n",
    "\n",
    "filelist = os.listdir('vc/inspectbot-augmented/') \n",
    "# Create training and testing split of the data. We do not use validation in this tutorial.\n",
    "# Train_set = SubsetSC(\"training\")\n",
    "# trin_df = pd.DataFrame(filelist)\n",
    "# trin_df = trin_df.rename(columns={0:'file'})\n",
    "# # Command = []\n",
    "# for i in range(0, len(trin_df)):\n",
    "#   Command.append(''.join(re.split(\"[^a-zA-Z]*\",trin_df['file'][i].split('.')[0])))\n",
    "# trin_df['command'] = Command\n",
    "train_set=[]\n",
    "for file in filelist:\n",
    "    waveform, sample_rate = torchaudio.load('vc/inspectbot-augmented/'+file)\n",
    "    waveform=F.normalize(waveform)\n",
    "    train_set.append((waveform,sample_rate,''.join(re.split(\"[^a-zA-Z]*\",file.split('-')[0])),0,0))\n",
    "test_set=[]\n",
    "filelist = os.listdir('vc/inspectbot-test/') \n",
    "for file in filelist:\n",
    "    waveform, sample_rate = torchaudio.load('vc/inspectbot-test/'+file)\n",
    "    waveform=F.normalize(waveform)\n",
    "    test_set.append((waveform,sample_rate,file.split('-')[0],0,0))\n",
    "# _ = trin_df.apply(extract_features, axis=1)\n",
    "\n",
    "\n",
    "# Test_set = SubsetSC(\"testing\")\n",
    "\n",
    "# test_set=[]\n",
    "# labelss=['backward','forward','yes', 'no','up', 'left','right','down','stop']\n",
    "# for item in Train_set:\n",
    "#     if item[2]  in labelss:\n",
    "#         train_set.append(item)\n",
    "#     else :\n",
    "# #         item[2]=\"other\"\n",
    "#         train_set.append((item[0],item[1],'other',item[3],item[4]))\n",
    "\n",
    "# for item in Test_set:\n",
    "#     if item [2] in labelss:\n",
    "#         test_set.append(item)\n",
    "#     else :\n",
    "# #         item[2]=\"other\"\n",
    "#         test_set.append((item[0],item[1],'other',item[3],item[4]))\n",
    "\n",
    "\n",
    "\n",
    "waveform, sample_rate, label, speaker_id, utterance_number = train_set[0]"
   ]
  },
  {
   "cell_type": "markdown",
   "metadata": {},
   "source": [
    "A data point in the SPEECHCOMMANDS dataset is a tuple made of a waveform\n",
    "(the audio signal), the sample rate, the utterance (label), the ID of\n",
    "the speaker, the number of the utterance.\n",
    "\n",
    "\n"
   ]
  },
  {
   "cell_type": "code",
   "execution_count": 4,
   "metadata": {
    "collapsed": false,
    "jupyter": {
     "outputs_hidden": false
    }
   },
   "outputs": [
    {
     "name": "stdout",
     "output_type": "stream",
     "text": [
      "Shape of waveform: torch.Size([1, 21967])\n",
      "Sample rate of waveform: 21967\n"
     ]
    },
    {
     "data": {
      "image/png": "[encoded data removed]",
      "text/plain": [
       "<Figure size 432x288 with 1 Axes>"
      ]
     },
     "metadata": {
      "needs_background": "light"
     },
     "output_type": "display_data"
    }
   ],
   "source": [
    "print(\"Shape of waveform: {}\".format(waveform.size()))\n",
    "print(\"Sample rate of waveform: {}\".format(sample_rate))\n",
    "\n",
    "plt.plot(waveform.t().numpy());"
   ]
  },
  {
   "cell_type": "markdown",
   "metadata": {},
   "source": [
    "Let’s find the list of labels available in the dataset.\n",
    "\n",
    "\n"
   ]
  },
  {
   "cell_type": "code",
   "execution_count": 5,
   "metadata": {
    "tags": []
   },
   "outputs": [
    {
     "data": {
      "text/plain": [
       "['MM', 'OO']"
      ]
     },
     "execution_count": 5,
     "metadata": {},
     "output_type": "execute_result"
    }
   ],
   "source": [
    "labels = sorted(list(set(datapoint[2] for datapoint in train_set)))\n",
    "labels"
   ]
  },
  {
   "cell_type": "markdown",
   "metadata": {},
   "source": [
    "The 35 audio labels are commands that are said by users. The first few\n",
    "files are people saying “marvin”.\n",
    "\n",
    "\n"
   ]
  },
  {
   "cell_type": "code",
   "execution_count": 6,
   "metadata": {
    "collapsed": false,
    "jupyter": {
     "outputs_hidden": false
    }
   },
   "outputs": [
    {
     "data": {
      "text/html": [
       "\n",
       "                <audio  controls=\"controls\" >\n",
       "                    <source src=\"data:audio/wav;base64,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\" type=\"audio/wav\" />\n",
       "                    Your browser does not support the audio element.\n",
       "                </audio>\n",
       "              "
      ],
      "text/plain": [
       "<IPython.lib.display.Audio object>"
      ]
     },
     "execution_count": 6,
     "metadata": {},
     "output_type": "execute_result"
    }
   ],
   "source": [
    "waveform_first, *_ = train_set[0]\n",
    "ipd.Audio(waveform_first.numpy(), rate=sample_rate)\n",
    "\n",
    "waveform_second, *_ = train_set[1]\n",
    "ipd.Audio(waveform_second.numpy(), rate=sample_rate)"
   ]
  },
  {
   "cell_type": "markdown",
   "metadata": {},
   "source": [
    "The last file is someone saying “visual”.\n",
    "\n",
    "\n"
   ]
  },
  {
   "cell_type": "code",
   "execution_count": 7,
   "metadata": {
    "collapsed": false,
    "jupyter": {
     "outputs_hidden": false
    }
   },
   "outputs": [
    {
     "data": {
      "text/html": [
       "\n",
       "                <audio  controls=\"controls\" >\n",
       "                    <source src=\"data:audio/wav;base64,UklGRsKrAABXQVZFZm10IBAAAAABAAEAz1UAAJ6rAAACABAAZGF0YZ6rAAAAAAAAAAAAAAAAAAAAAAAAAAAAAAAAAAAAAAAAAAAAAAAAAAAAAAAAAAAAAAAAAAAAAAAAAAAAAAAAAAAAAAAAAAAAAAAAAAAAAAAAAAAAAAAAAAAAAAAAAAAAAAAAAAAAAAAAAAAAAAAAAAAAAAAAAAAAAAAAAAAAAAAAAAAAAAAAAAAAAAAAAAAAAAAAAAAAAAAAAAAAAAAAAAAAAAAAAAAAAAAAAAAAAAAAAAAAAAAAAAAAAAAAAAAAAAAAAAAAAAAAAAAAAAAAAAAAAAAAAAAAAAAAAAAAAAAAAAAAAAAAAAAAAAAAAAAAAAAAAAAAAAAAAAAAAAAAAAAAAAAAAAAAAAAAAAAAAAAAAAAAAAAAAAAAAAAAAAAAAAAAAAAAAAAAAAAAAAAAAAAAAAAAAAAAAAAAAAAAAAAAAAAAAAAAAAAAAAAAAAAAAAAAAAAAAAAAAAAAAAAAAAAAAAAAAAAAAAAAAAAAAAAAAAAAAAAAAAAAAAAAAAAAAAAAAAAAAAAAAAAAAAAAAAAAAAAAAAAAAAAAAAAAAAAAAAAAAAAAAAAAAAAAAAAAAAAAAAAAAAAAAAAAAAAAAAAAAAAAAAAAAAAAAAAAAAAAAAAAAAAAAAAAAAAAAAAAAAAAAAAAAAAAAAAAAAAAAAAAAAAAAAAAAAAAAAAAAAAAAAAAAAAAAAAAAAAAAAAAAAAAAAAAAAAAAAAAAAAAAAAAAAAAAAAAAAAAAAAAAAAAAAAAAAAAAAAAAAAAAAAAAAAAAAAAAAAAAAAAAAAAAAAAAAAAAAAAAAAAAAAAAAAAAAAAAAAAAAAAAAAAAAAAAAAAAAAAAAAAAAAAAAAAAAAAAAAAAAAAAAAAAAAAAAAAAAAAAAAAAAAAAAAAAAAAAAAAAAAAAAAAAAAAAAAAAAAAAAAAAAAAAAAAAAAAAAAAAAAAAAAAAAAAAAAAAAAAAAAAAAAAAAAAAAAAAAAAAAAAAAAAAAAAAAAAAAAAAAAAAAAAAAAAAAAAAAAAAAAAAAAAAAAAAAAAAAAAAAAAAAAAAAAAAAAAAAAAAAAAAAAAAAAAAAAAAAAAAAAAAAC1Akv/Gfpm+v35bfoEAXn6awV2+pEFXfq2BT362QUd+vYFA/oOBvX5IgWq/RH/wgJk/PQDv/tkBLr79gNL/HIDxvz/Ajb9jwKt/QQCav5SALMAqP7MAc/9hwKp/S4C8v3vASv+uQFg/oQBmP5EAUb/VgD1/8r/cwBI/wsBfP6hAfX8iAXJBdYFwQXTBZsFzAWXBbgFjQWzBXAFrgVBBacFRwWKBUIFeAUvBWwFQQUvBVcGpQSKBvIEjAYLBrwG7QZrB1EHngf4B9kHpQiaCC4JZAmwCasJTwr7CToKPgpjCsAK2gosC6ELcAu/C70LiwvAC6ELbguYCy0L4Qo2C8AKsAqCCu8JNQonCgUKewm0CJ8ISghjCPIHfQdwB0MHrgY5BjgG3QXJBbEFNQXuA6UERQMHBBYE3wPgA6ADbAMnAxID2wKqAgMDuwElAjEBYAN1AS8BKAGwASQB0QBgAF8A8wAnASEA+/+M/7/+Av8l/s/+nP7Y/VL9C/5m/Y79a/3+/NH9jv2V/fj8kvyK/En8OvuS+2H7W/t8+1r6Qfpi+u76NfoO+mT52vn3+Mz3cvgi92L4TfY0+CT2vfeS9VL2B/XQ9V31tfQ59NzzLfMG8/zyJfLI8WrypvEk87jy9fGU88HxG/WV7ZP0vPGo8+TxjPJQ8aTx2+/s79rtEu7L7YTuju3f647sD+su637pkeeW5RLjSOE84G/fWd5e2UvZVtSS0vzYvtjY2+3extzv4EvgPOPa5G/nOeeV6k7pL+uo6pfqCexG7KLtqOJq70XptuvM58jpd+fO58fjceQd4wfkFuXw5MrlmuZQ6Pvn2eh36Z/qm+g07Ojpi+9z66zv++v86+vtcuoo6yboPO8n6E/uLuki61LpHupr59Pn5eef5uHl5+O+44nieeIR5G3mIeSM52TmzOmL6ZvsQume53fsL+h16hHlc+fD5HPkUuIG4nrgH+CN2YzczdkC16HUgc9+y6fGhcBiuqq0dqsEpeaWFY9yjEiMR4xXj8+NSpExmZKd3am4rdGvyba9ucHANsXmxCjLdc0Vz73SM9Rj1mbX0NnM3Fzcr9rY2/HbUN1c3v3e0N+I4WfhaOKq423jgeb+5AHoeed06dHp7ulN6SztBOln78TqC+287QLszezx7RTtIe+08ALvVfPd7cvyEfE18ZzwZPL17uHytvCB8IPwI/KJ77Hym+6N8SXxjfEM8TDwbfDL8dnvdPDz8BbwE/GW74TwjfDX7iLw0+6S7sXunOzJ7gPvne/i8NDvru9W71Dvje3778Dw8+4274ztzu3N7O/qwev17n3v+u267MvuEfBS71PvvPBS8Trxh/Bw7svvsu4Q8J7vsO+l8QTtJ+0f7lzuIe7z7DjvyvB48aTvIu888Mrv9+0N7pPxLfOa88/ynPGF9Bv3kfXD9un1a/Zo+jf3Gvet+a35avp++0/7ifsL/lr97ftK/Ab9yP0Z/eb9ov+a/lb/y/0X+wz88fqF+rH99fo2+2b8V/pI+tz49Phx+db5s/qN/P73Nfqk/ef9XP1o+8H8mf0D/m37H/ye/Fr9XPuA+kf91P6C/wH+N/yS/XX/Sf8JACAAxwGRAh4A2P+0/4D/qADP/4cCSwNmAdcAxgA6AVEDFQOjAXACdwP8AoUBnwEyApEBsQFJAukAdQOmBBMDlgR2BKgEeQSqA8IEgwTiA7ID5gK3AbEDdAI2AesCWwIPA0gD1AH/AboByQEvAwAE0wHOAWICCgTBA3sAuQGhA54DdwHu/uv+IAIhAokBfQEFA0EI0QjiA3oE6QNNAYIDAQIwA1gE/gGhAZUCIgPdBoUG3QJwBl8F0AMIBV4DcAXhBGYDaAVKBj4EggdiBRcIegcgBDAF/Qn9B8UJuQeQB8IH8wdMCYYHwwbzBtIHYwUgBakFBwjhCdEJ/AbJBLYE+wdZCAwGawV2BMAHrwcABwgGYQTvAwcIjAYRB+cLoQ64DjkLuBAyDXoOHxS3D4QQnxLJDnESMBe7EJ0RDg/tCjsNSQr4D4wRdQ/GEWUOhxCjFqAYQBegGwEXthj2HmEX5hpwH/gcfB3SGXkXxhZAFg8j7yCuH9UnBifVIJEeeRegD3EZxxnlFFcMahI5E0Afri/0D4MTqih8I+I6ckP+RJVcD1DPS/pHdVMvZaJnNGflWoJcJHSqSvcufCNANT5H2kGfUss8IjYgPx05UUklQAU+FTqQLIosci0+H8Mt3zb/KNMrAynkJW0qZidRE0YtADnmLtAxJCycN0sx8iaRLJEuuSaKK4IYYhyHIbMQpxleEJMOhRMVERwOTxeqFuAUkguJAp4RoxJ0C3EW3RZxCqMLNQORENYWlhExEg8Skxi/EekNzREEEZEWNxmGEHIT/BSBD7sMRA95EOoRpw0iCwkVMxHhBecMThB9FpkTdwyrFqYZwx2EGggRLxQFGWQRixFwFjgaRyEbGRAW8h7dHIshqBSZCfsSwhEiFakXgg2eD0YW4Q5dE2EQSw+UFTcPWgzMEPMNWQ0jEcEPeg/mDrMUrxdyDaAO3xM/EQQRNQpXBPcL5hGADUUSEg9TCE8Q/gxrC0ER6BE6DrgJtQ1PEH0SDxHiDXgNHQa7EC4ESwM5BjACXwRnBvMCxwo6Da8FqxpNCasLSQhZBJACOgJGCJEFkgVNBqgGGgnrCzsViQziCckL1Qn/E9cLGhBJDIUTShVqEg8NQRirCysLzQmVCC4SUhBpDc4dQxATEUIItg2jB/EDAArQBBEQ5xILDOYQmgYgAlwCkwWfB1kGlAg0CtUHzQrjCDEIvQjeCEwMewqMCpIEnwNLBxwB/gRdBNsA9gVCBqcI5QYTBwcX6gSQAF0Aff7KAXoBIQHlAOAAPgA/AEIBFAKYAnYBpAIEBPAEwQTPBIoDtgXiBQgDUwTwAtkAlwCJAxUA4gEOBFYF0wccCmwJcAd6BToLGwdPDj0HbAj1BskHXwi4CH8L3wvmBd8IsAKYB28HxgZCB3YDo//HAt4BrQRPBB0CngJwAIH+OAEyAdT94AVICGsFjARfBIAD+gneCPMI0gbXBY0Iiw55F74gVhGKEpAVowsQB+QHlQfwCDsK7gcdBOQGgQOcCw8GwAYWB4IDIAJlAlcCHgUAAEgCbwWNBGoHwAfnBnwKBgWEACQDPwBnAPMD1AITA/MB8PsQ/0n+pf4CAVH5Q/2zAQz9sP/1ABYCEgZCAsMBkwLe/rgB2gT8AJcA5wNqA0EGfgatBKYKWQngBrsHZwIdBBADXQI+BVUBiAKZBE4GzQYAB+oFoAhWBnf+OP8uBQYHtgcvDPsIzQclBwQEzQLhA2EEJgLc/5X/lQB6A+oE2gaDB5cIZQZr/+QD8gGp/iUCkf+Q/y8AgwIqAukB4AVDBT0GUghICa0MhQrcCQUJpgX1CnsE0gb/BroAmwQ+AQYABABl/Hv/XwScAbT+iQDGAn4BLgYJAmYEwwBr/14JxggwCpAHoggMCYQGyAdyDkgJKRDpEzUQtRSsEIwPnBTtFdETQBkPFBERpgwgCHILPwjUBBsHyweZBmYHaASuBKQF7v6U/9YCWv9JA7EEJwleDU8JIAfzA4UHnwUjBDcDZAUjCK0FVgIDBkAFdQh+BiYFWQlWB/UFBgUkCGMJoAo5DEwKFQtPB8QFBQQsAQwEYQOZAQAHGASz//wFZgZMBo4GmQLqABEDQv3P++T+ef2xAZACW//5AY8ALwALAKf7+QEDASz8lPz2+pgAkQKOARsFcAaZBvsJVAZJBi0KigWnCb0LpgyBCEQIZQlpBrEHDAIsA4EFsggFDNoGxgoyDxMFIwdwCnsK/Q8HDc0HkwsCDQQLuAxgDhsSShQMDjULYxClCcALZgs5B1sOYwxzCfkJbQutDzIOHgk7BWwDiQWFAhQGoga6BQMGIgPuA14FbgftCN8GjwQDBdEF5gMgAV4E0wN0BlEFqAbrBWwFkwMDBIUBuwSrAV0COwWiBoUKfwc8C+MJBQZxBY4DwwIJBS0E+wRABjoFjwYnCN0JIwlJCP8EeQbCA4oEngVIAVoFyAl9BkgIlAeFAs8CjQBSBKgBNP5RAQ0DPgCIA/oAswBJCUUEggfvBvIA/gRRBLcBJgYXChYI8QgFAwsEqgKp/YwBWgAIAdYCn/4w/CgAIP9cAOMFCwTD/Yn4ffV7/G3+wvmO/eD+KQRuCwwJ3Ag2CsYMbQ3FC6AO2RCjDXIJMgWiCo4P6QY1DTYMuAe6ATf9Cf4c/MD/hf/VB74Bivu++hT4svi89oX9/v9X74H3Nv2a/lkGAPhLBJoEoAplCfn9+APf/WH46vnV8hP/ywusC3gBRfd8FdgG/wgeDQAStDItIcgdlyigIk49FDL3A9wMmCvjEYclefUQLQ4i+xIDWmhJlgBCJ1MM5P2YQMQMyBXTF6vL7lrSGs0RdXgdGi44W0hPvQwNbPij2UEaUUa8J5Q8+SCoCRNTNm30D8w6QUqtVDlCnvqvQBYejDApSKYgiRBuRP1fSRJeT55MCvUWGtzwWcZo7IkIsiyvChcQFxh6ED/9CBTCxJDnsAXb8ncZvS9uOG8+xjFGNiQwniKvRUxK2RvXGUc50hSVKag0kQ1UZJof5jt8QL0KMSlFBHngxe6NJmjsmh+g9vz1oSeL2FEjKgXZ8WwvLP1v/aMFlO85Dr42BO82CKkm5v3ncBpvFzhyZOImogCgICTyF+kdBk660iatCTDesitgAAfoKAOfq+y0q+XIkOXgDeCWybUId96UpSLlHda00sbnf4eT47jUg5+04Iu9BI/Ey3bCbdCb+IEOijGsA33oWjSrYo8lDUSI+KgB806ivD8lSCTZ+rE4lCRx+TEBwC5HPxBSsHJoIiB1/X/kf/1/plNQeO0ekykoP8Ll5u/MEjX96PVSC+bHrdZQ0wGAAYCHiEKfT86ZwiaOBafcuO/MMvvnzUraPd6Tue7UuLiwvNDAPbqKn2H7rwg3LLQ6uesMMM0jZx/9f7UyWAZ6YX85iVLTEZqcxdPs0xy+kupr5IX2HjPo0nLxCjMw9yo4ct0CpagtUSnu0XIem/sI+Jo4v/M0++P9b/kKAqrzLu2S+WD5iwOA/xTZIAInD3D/gPc/AYz1BRDIAm/9pv7X9/P7V/oT7KXPiQO7BML9VQMC/7T+QAZ2+xP8gvqS+X766uLUtEn4oNcS/JDAMvfY8try5/nf/zIGMv/mAobylPmD+ILYE9Li9RbrYdi39Ur0vvwU+PP7RhOn/UD7ZPai+2/un/xV2wPVU/yr9CcMePJS+0cKU/yUBhQBJADwDUAC7weeAWz30v10/Lj6APOw/5nvnvcP8zvm4v8G8vb2fP+v/5MFwfmq0rf0sfZL4JX0bPho/ZUAjQL6/A0Eff6oAfAM0P0EAx/8Wf2o/sD9+/2y+oD8Sg9LA3sFcgwWC3MVggVrAocChgUkA7oFl2dpE2kaMw7sCCEMiAPjBW/85gMPDRcD6QMEA7wEpfoaBYUUMTTcFMAEOlu0C20NSxC/AGAITgXR8ET+lAOuBq9VYgBKADUH4CPdBwQINghT8yoJJP/A+9D/avSVA7AIkQi0CKcIUgYwC70I7wJDDrEDNBnZNgP8sBOBCSb8XQhiAQ/9owcxBEAA7wUPAbYAeBbB+SP7BQIE/YUEhf5VCRs0KQD5A+Yw6gEn/SILfPcgBAb50/TH/yr24sMuuH/jwP09LY0BqQQJAswC/O2Ez8jlGuvf8wPrqPhw4tSks/MT7q32F/eRtdf6pNOT75XYqOSvBBn+ED5hCKkCuyWv/oHrlfwFBM8UeQhYBDsAogsrFQERZgIZCJUH/jdOFGgWEgUPCO4Azf6HArwDrf6OAGor5/+o/NUBPfd9ABYA3/2F/5r76vtP/jAAB/X7+5r6NPj2/yD7Efiv/PP9ewOdAI7+6P77+Qv+xPy6+5L5pvr7AHoGAgmS+mkD4QEz/MoIuQqIB2kuLvvt+pIAIvmy7gb6Gvut/s38Sf2P/ujvgvgtASP3E/eF9Ev4vfRf+Bf0MOgV/I3/Kvs++X/2BQKs/Sz8dPRc6J33Cfqq7c35UvzV/RvyefYQ/CzwY/5G+rv4MvlP+PH0rQK9/lsEsQoo/sbylfn/9l8Enf+g/wH10wCPBa3+e/yZ+uX+T/meApYF5gNRAgIJKghaB7MDRgPW/eH+QP26+1kEGgQCBCcDSQDE+Vz8bQcVBb4GvgIaBn8KIAh7C4kTVgb4CG0LDQkvCAIxrRFYOFgFkg1/BrX+sPyP4TP0r/H99s3/j/6LAh38RPuM+kD9U/6p/VoAhP0p/d/8Hvw4/FTxIv7+AYsELwzs7br5qv5k+lARjQJU91gCN/me+ef8yv1//scCXgEWAdz+9uey/Lj5WAEVDwH7Iwv7/d74lQAm/8ADaAGMA9gE5ww9CXMKJQ8cB/oBOQGe/5gIpRMtEIcJAwj5DCoLoQKxBlj6uf5g+iT1WgI2BxcH7wJYAKAJIhMLFNMPcQDK/QQTNzGiHvQf4wwOH74vHBRDLZUN1Qd4KtQoWyvMRGM0/yHPKjcidhEOHsYKkx2DCbUFgwyMBev8tBMoCj4HuwCh/3Pz6u2Y9G/8kf/4/kz8PACPAScB+Ab2/oECrf2q+VoBxgCI8dX7VPMP/5QX4f4SA64F2PX3/38CLPlDBpgEN/oGBRP+kwYbGzv/nQT6/5D7+gUbBNf7dwKjAAoG1gM1+vb4kwR690j7pgGp/CIAsfmu+JsBi+zD90IB8v0CCOL9H+2R8jf2398HA2QFGfnKAXsB/PzD/V3sxvbW/Vv5wv65AHX7K/2g9hT8Nf+W+cr5fPqo7wz4qP2H9AD8gfQO8sj8PvQl+gP7Ivh9/JD9uvjI/LT8qfkfAtz/dP9wA9IAVwSKCDABqAQtBA8EJQ0i/y/+3Qf4BaUF8g8sB6MPSyWmD9oQMTZVEsgHxRX/ArMXowPrBggUGgAIBvUHHQTMDlsJNw4eClYF0gdwEMwCXf+fBFQDtQNyB6QGLQpHB837TAsMCQsDoAtB/Nz/M/65+L4AzfwM8l//yP5j/40HdQKcBqL7RPu9AvQBEv9nCdkDQAHb/1r8ov0WACMA+wEtAMH8GwBAAuv/1/6t+Jj9xf7T4Yn8b/u++j3/bf+K/fEGLAJUFpQG1f58BBgB0f4A/K/8BgDPA276dfvc+IL27Pi++/H8Gv5P+9X/H/uk+5b8w/1VBugB8P3I92nwrfT03s77qvdg9C/9Ff7u8J//tvX7+S8BmP+N6Fz5C/b29YjzyvT4/Hz7Pvus92L+6v9DBPfwm+USAeb7YgnCDEsAoQaWAWv+Uf+d81H/AANB/pbyIP3f/nACiv0lAGgBTu/q+WH65fPO+uz8y/zzAcr3aflqANMAw/6g/ebhLfUv/Wz2Q/6N9r32mgEh/AT5EgF3/KwBZAVaAiwHqALI+xEC0P1C/UQED/9gAPoBx/3A7DMDBwfnBz4HRv1UAhv+8fiuBOsBsQRoAiP7UQBKAF/31vudAazkdu2F/Wf6cArU/wABHgof9jwC1wHF+yEE8PrI+tn/Uvg09Cb54u/n99n7/edE+mb5qe0PAR3+Pf2mBLz/Uf/GA1DyJfiD/Fb6HwSh/5/8XgSwAej7xgLe/5gAWv7i98YRFwgEAv4JugbeBoUpqQUeBBYMSwZzF84V1gmODQQHZwWkDqIN6xJlFQECbgp6BIAFTgaKBi4E7AZrCrEDHQ42AjgB1gW5AgMO1g7y/5EC8QAuDlgJQ/8JA40HjADBA14FWg1ECGEFGP48D2MHHgX4CYwCZhVXB5ELdwsTHUb+6AOLBcH8agnGAUP8ewBT/x8H1Atd/i8BIgAm+EkDW/14/S8KUhq/BOsN8wGVBuoFVQZwBXcHKAXiDBUFzwVXBlYB5gc1AzAAFQn7AM7+VAOY/xT/LAM0Afz7DgOJ/Qr8ePqS9Lv75e+6+SXtd/MK+sz+LPYmAJv1xfon/aEBA/24AA39HvK8+0P2mfVxCPwDAYD7lKLdZwVgS/1//DG3+KgIc9rb1AGAIZ8KrP7vVQ8BgP1/+nJcjAGA4fQBgP1/JSlH6v1/mNS5VDmg3jj9f5Tpkhio5XkcwSibcYEwIdAntv1/lq591btwAYD030kav8WQbBnAZbLJPeXU2spLI1UPs5gbeXIuNwfZTv1/K5M4GwUdsPo+YP1/HFF1wElHPDWyjpJd2SoGCkmFAYB56zh6Bx//mQ1/AYAJ2g8HTBPEWeNM5l4BgPHpt/5kuD5YJJoN8f1/ZYdVyh8WAYBd2X4h2xtxSP1/tNjn0vC5RhT9fwGAAYDNyHDD/X9X7v1/B1bEPCZsl4YBgHP12eB12VV7wwIv09ism3MfGv1/FGiIAf1/v1gKObvXM+D/M/0Lid/qbzTbzTxCHQGAojOMCd5gmGrEM+++AYBbuR8Ew3g32G7Rg/DYBV8rTCRHEYn9/X8aAPOw7degSv1/5aBkXYEwAYABgPa2CrsBgGBHBfgwnwGAdx7bvEL9/X/90+NzboHQAePtAYABgI80cerfdqA7xMP9f/TRJwYBgMgF/X9uXwGAQYH9fxvFAYCTA4Xg6tRfEgHo6jYYBAGAWjrVUW8N/X8BgI1uWTAHCv1FXJb1/gGAa0QDIrV3WhGZpv1/8MzwxNgkv/chWOrs9SiHUVAr8zDsT2cYBZ3LorQpg2aSCZQEK49tygGABbc51RP8/X/4C6hWRyp8JKj/AYCnkvkY5rHBp/1/4PUckr6+ds/rGbkOAYDBunl1RCABgPW5AYABgBY2QGVY4jVPGukjviBiqekBgNoPWmTQc1ICzfB3Aw+tAYD9f1RMAYDWxviEAYAv6Pwc/X/AMbDZMY+7yXvTgcQdp/rZ/X/9f0vthAYBgOCsDN7NLIlxiWn9f5UX0BVK90Zkadzn25/AurDFZf1/UV39f0kcEVRHJJo0/X8BgDsnyk3vBMSQgnAt766q/X+iknO9ctJau/1/r+SguvbHLMX5iAGAPhYBgP1/Fhu5mDuXAYDXwcuUDr+D4tXfOwIKZkgtWLhpzgGAsJAHltz0/X+BLL1pAFJnB66s5sRpSmaUy7DjNi4KmCX9fwT7fbbZrqXzDxk+yYZN5A2WBvbSvE6I8QGAbG7tDZhN/X/9f/1/tR654YoxKdABgNupAYBEJxZ1UgrwHtpqxtiY91UDAYABgOq1smjKVDZSFh7k9mj3pBT53qe3abPDyHU9nhOW7da/AYC4uP6wAULb7QkA4itSXqsSAYABgAGAqseAqRw1XzxCGNFCZW2/bjGnDJEBgOaomABYRZhs1v79f/1/OhZ4safxSMQGy3IA134PLUH2TRqtKa4l9r3a3fkdMCSkPPVW6PRfgdTxj9udtmX5lgnBE/ZT/X9Hcn0wNc6iu83JF78M6cW5uwQjePdm/X8zAhCw55N0n+PRug+S+dgCX00zKwUGSgUt3CyeLNMC36/rU8Pm/uURjg/WsjG7yKM64G0G5U79f6LoItNNlIKHGJv800iVpOJeDP1//X97EqgBjsUBgH+GAYD4rtbmpUX9f/1/BB9Np3Lr758q6mMre9s7/iw7/X+YJzhThPNgF2ZVBwDtSEEgsDP9f7UiygEBgO2CO6wjS5Jw/X+QeSYReTF7uuvPweIkwT/lrzT9f5t1tDxFWv8WqNKGylmlAYAy25l6/X8UapUvHv5K3pHZJeBlzOMAPB2pbu318+Bp86XvAPMfGlk4T/kxNOtWMV8QL9SRAYBvmXipYwZsJbhjQEn9f3QRi9iAv8SWAYAByx8WsA7XIuU3D1JsLhkdJcwBgL+L8Mkf8+cpUFfcEE8A3Nfz5vfQfcGRKjw7J0gXHTAFk8m5vd3TyfpVE2wl02BBOsFA3SMS/j2tAYA7obTlbAQ3O9ZlPm3hIJEAhrwBgAGAMt+x71oKPUXKJ2XbEBluCp/6TaQvrvwEFPKiKsfry/r9zlbueuXNlOEbVi0fTjVfGg/F74ytc6MBgHndsynD+itrtEf9f8JKprosCzyelqUM0icbgvZ9Rf1/yh+AODzPtbdppsXYxg9sOUnF4uNxMAIfSeA8+RbvrwUUDn7zafA2BBD08KpumFrBnMr09VQhjkCea6dDJgwwnxbNAYDa0DKnbOz9f79C7BYsOtNYyfc8weWyQehG5GbR3C2YcP1/mxSM+LHxr7Zs3HAqRgDiERq0j8LKDpGxhwJr2oQX2dblQu8rc6lP4cPdThMBgA+Z8sQq7EY9/X/9f/1/+wrbo8/OhpFcysMdUvb9f85/juVzCw0ZrhnsPQGAvcM1AsECafNUBUYscedC3g/qP1Hj5TMvRUYu7Lwmr9V82Y6c8P90Rch0Yy24H9l3PfoG0VL7qOkMrMzbFdp2JBQmwiMCYVxipvMJvOrwarcO/ufWBhIa5H/yiipoArA03w5NQMjuXudswF//CQwxux/3L/nu/b7y8gxHCIcFmwajDG4KPcEBgLy9Rfd6B9Ekdyrg96jzq0GoKhDJONhu0/Lvxb+V4A4Geg0zZIoZjWrtpz/ipPdzCjrYwOxKDpPzviEvH9dJle7wDsgcC/2F7JzzC+1z6L0NFLig9rEFNQHGD2hJXkcvDd/68eW734u2cc6h81YOGh5oXGxx5Q26O+o9seAmpxnTLe/O5+sZCSf9fyf+bwlHGQnple+oBRr4bP74+ADx8gQaDCcOlxJPCg0TwTGBGNQO1+yB3JruqLXOo8nPXQe9GgsmPBN9HEH5uceg2xWPWrza6OvnWhb6K9cKB/wGC3jymuR10OWfvtzoBqr+S/cM1uvzevYiBLYDvPJ+KtLrSAtT9G/w6758vLkOlPhsE9fzX1RIK5s7lvZwz8/G6MUC7zYO0zTlPMZSElf9f7gLIK6Pjf/5Zf6MC4Eo6APhN3cYdiX8B60tbgj21QZHbP9zJT0GUhxfCaLlbRVyBmZW9QovO2hOnur+0y7X8On35/HcJyfJFfkgcFgyKIYQXMWX756d3bURuSv8mvvQ5U5xRA0P/RvPh+hI4BfS7N52sWMC6b3p50YSHfjR7KvSdxjOEXnwM8pc4kTNKMdj4MDVqQE0Ce4FDSA6BGvaKAmRz8bSTNAAtEDSCt5sEacveFpMDKhW9ON+vOHc6rT773L8Zi6U/soYFmBHITwDJORTLPsNt+KGD0kV5fWJ9rYophFQGF32fTRUQBL5d1uoQxvNuejUFwrgcgI4GWBGxih5P8wqGRXAtLXc5ACgmcYA8vjdPd062yXcO4YIy+8y2+cPjtJK8Gb2ovjbEoT+9hLqDDYDD/cUBsUU3u6v56jvoevmwkjSZwTL5EDgMha0NizmMva/5RzBpMuZzDbuSPmz96QfWzee+8H9rf3g/SztKdGh5jfLeuEH99I9dAirBw8DU/VPCsz4Q+bi1T/mC+IUB+8KefYC/f0gbgqq+Zfwp/Tw8Wi7X+T44NDiPPFLTrImax4oN6MN9ijd2jvVR/rox1fGMAunKTgU50E3LSgwdQT47+4UsPtPxSrwTS5k8z0CmjE9QUAlpvHL7ijiTes/28EMCv226sz/6fzQE1wJ5hDAJwELqgERHirz5uK05TXgJvkq/vYUmXgMT2wh1RJsAZ7Jl/DrpqnRqAPJBIQsfiBKEgwrBAJY5SPuOuLv3NrcnPGf/KkO8fsOZjgY6uTCF9MMiwwVe6YdC/266nTf6eGMClU4NytqJ4kjblBPEWz2Qe9dxAHuCehm//oX+lBmHMpLqy8S9V77U9a05OwKmw2gECkwkBWeFRwr3gRdCWUBTAiAE/f3otUJ9APm19jBJXMM+RCWLPkLtP7PEobrOev6zgGAHAt7ArYJ/X8iH8oyxgKX9Fv67MWBr6b2E/esDOr/bQ3ATFESwOUUPojAmNalLq0H9NyW7FkNkO2S700cZxG3A6AG+WIBEFDDrfHe4OrmCe5n3+kxRQmhP1A6BAYp/Ezm7r7/4ovvXNgPC8EsyyqyJbAF0Ar1zWW5ZACR65PuXwdR+cnWTQ5DCBkAzxmPBrALU+jdtVYpV/Qw66ACydhN0dLiAhwbI5cvLRwRDrX8/sN4z2XVTgvEHPYCIi03RTMaMhDrHIXHycTD4vDYg/qW+9Ai+SsCGTICX/Ys7tkDZgAGAKQCHPrB7k7/wwlBBioCJPJ6LYX7wvADEt7vCOZD8qbt2bo5CzYggxgfJ7gmLiazELn7/PTU6hvn19e1+5MT8xvADj4OGyzSCB7zuO4j4wLntuksCzADEfq8AAr9sBjtCUEievaP1LfvyutzvZfMYOISHhIZQA9JDfYJ9fTaFRoYJ8E51I+7oPHt6CPMrAtTCQMKfBOV9TjuA98b963xbvyc5obf/yCmDbw4oTg0FSE1yvlE6JUMKACt2UbpOQm/8GUEwxucTzAmGRBtFdvuh+Sc48P5eP1UEPwT2FilKwGAb/PYfQZRAYBwPiVHE9jtu34bHV4BgD8ZoLnKNPYtQlkH5/iXLDpWqv1/uOI+76/xq1qfQ0yTJr6nv+ZKxuwT5Y7gKWmpQkyqRLHN2HYdYONjZNXN6cIOxV9g/X9ft9e1d4INMAb5PDEm1wfo/X//aHng5oMBgCP4GCPmBqZCrCWC3QBFLyUP6NeDX7287+o7tff2Lv1/5eb9f0sCqBKeFjLCziedumssRAhzIxX3QdEXySTI49dqWvVRMu5XuIjw2BGsm8DTeNBp5Rbl/X9IbaFEriGk0xDyAYABgGDlKTg3N94vemW0Mb37VomMvgGA/7AM/aUO2vAA7JYWZFWyQwGA5KPEtevVPyYmQQ8fuRS4GFEcmtgBgMjf+D1kJwJRpyp05mDjl9ddpkTgfZa9/f1/WlkzbWQqzBH6+bncPKVekgGA+Q73cv1/mDc2Icfgz77OxBmiDg5OGnhCk0BtMFRBzAOZ953iB/Et1DYA+iXPXER8ijVr41u+cdOGwnn2vh39f21OR0HP8trMAYDCvALrFQNbVLREfy+gWvU5UwC07B7QHav7zRTO4ClyV7hoXh3k8PTFqaNv0b/tYxo//oYlfTTM+q/jgdJwv2rQ7em8BiwPFxyrLg8RwOcFk52opekJArz9Lii5VIxv8yYa7cPKAYBRyWX1ySFJONdMbhlFHooKjuWa6IDG19VL+KUOFSH+HfhGmSv93wGuW9+X+CTnlQ1eK6IUcQVz7RHkc9mn1/IH6xHXJtBKjSEWD1vo+85I1tDkAOVl/TcyMRuPRA5TchqU7IvNK8tq4wzuBhEnNcE/dC6tLcj1McnH75j/3A68BMMOlxOwBdEN4QYWCkDsQ/I9/ogS+x15Im4Z6wIi2j29prYRz/wS1iOmPlNcNwVJ50zD877nvSrkkdkh/qMQgxxkJAIe2Qdt1QXb4cVIy1/qZAoHHrAT6AeQ91/r5Oek533zd/GU8ZkVuAjX6wrPo+486HH0AQupCAkXWQ5bBBsHD+vQ2zzY/M6O4LcNwyggQ94nEhbsCfHL7b8rvqzo5vZ+JaEdICXwJRcOBhA0B6UCquC48UoGDgykGF4neg/hFTf4RvF5BlkP1yIsM6ksjvua82rxG98Z9CEFyB6RFrIclSjMGrEKy/7j86fl8ewv+JUO/jFROc0xPyhFEezj7cpJ4ub4iw0gH94o9gymBOkNogjFAY3ayey5AcX8QgFlCgT6c/Nw8DLdH8pj65cQmiIjKSkVp/xsyO3QRdFitNf8tRvUJ8g5qCBwF5Dwe+yt44jFM9p29Q0LARtUKmc28BERAtjsReaY7kb1HweBFpr4gAW1AA/rcvBTAgb2jvLHB/UoCgy3/csKX+PLymXffPgICfsZRR3yFIkOCN3T4My7LcvH72j9pADlE6owQx9WEvEBmu0L29nJjPq7Bz0PEiT9KTQXDAhO8/vrzP7g+u4R7xc4BF8GMByv/YHNefx+C3EHswBdESQaaQj49/fusdW008nbSv8aJrMgUTUHHHwAEtH03ZfOQLrz+EYCAg3sBqIPCxxwAFvjGujC64THtu6iDioU5RTeEHkMWfQb7ur+jAPKBOgPmBBE9eXpH/TE7VLwH/7NDokhYiFPFvcgDw5rBzfvldtnzCPlQvrtGvo4B0BUEtHzruBL2FDgKfI950wMrhWRKbANXP92AGz98/Sa9Z34VPZZAd4YhBEp9wPmgfpmCaQLVhNdE+sOkRB6+IXqhd1x7I34xQIPFsAU+xkHHLQjKAQG+Wbpac9B6tD6/wfZF7YtRhMOB+Hy8/CV7ELyKQEVAU8BCAg2DXTr6QK/BrICM/y79VwN+RDcDS0EHwva7dHxq/s78QcMVBHVEeYLyf/D/1DyqNvg8TT6If4zB3EC2BSeGGsJXvkc+DnUU9YE+gn3Yw6vFD0WDgvF/k3yXewI87b1Bw5dDJ7+RvVa+tAF3/+u/cgFlwL6A+8ORBNjByL6QAJvAOPxU/VB/2EaFCTsIBIeJvtI5FzmiPnR8gX2rAlvFwwVWQ1xIvgL8/qB7qzzY/UX7eL4lAE/EwQPCQnX/CP7Gu6eCwcEQ/LzAk/3g/eZ8vH6ePbV/XP4vwIYA4L4cA8tAbb6Uet32w7UluEN+kgUAx39EeMLFvfp5IXqGNtq8MQFUPOK+5kaNful/lkJ8vj59mLyH+Uu/o3yo+r7EkkBqeVO83v6+gG+Ek0ODAp++MfmggGE4FbdQvBx/oITZf9xBHcbDDjU+7ICefX8zujrs/lUCXAYDQNTGwP+j+Nm8LDr4vYlBbILyfrH2S3wKAwQE931lgc+EEnwrQmR/nIDCvhd/vAKbfQP2Gv8bRRkDtcfjxdaBDXkjvN39qzxW/izCto3khsJE0EtAxVf/ncCpOwZ9d/8XAf5E08TUx17FWETbv90+JT94wYCDcIbeSPx+Gn0HffxAWcRUwfyARwXIgb6/X0IVwJD+s78T+938G4EeyJDIGMP8PgKCMnx0uTt7Fjxf/dv87n9zBzFFXn4Xgs7CMX7xfIQ8vjxPwe2CywPcQqx9H7+kQGpDzEHGwZuCucIBAU8+PsBM/G6AikMQQDdDoEGsQ+8C3IIPO+T87Xf3+2xCyv57wMVGycVpAjfC5n9kfR156DrAP2P/ggANw3yEH4KVAPt+/L/YfJE8dII8wjh+fwD8wNH8KP9gALhGwYX6v4dDnwHB/ZQ82v9qvHo8T0CSwgAEaj8DxFYGUj1EvI862npJ/Ej+zAIPR3BAj8JuRWA8//pAPIb6y33OvYU+B4Nrvy48IT+SPdn8n75uBVRE8kEte1OAYjvNecY9uT3df1g+HsNyQVo/0f5F/fZ6SLDWuNF9sb1PAj+GToUhQd19gkH3vmz5UvqhQSe/4740AbLFfMMyA/MDe8KMgEj/TT+qARuAqf4rwj1BtMG9wzVFgQSGQslE0YNggUg9loJQgow9tP+Uw0WGBoCdRFaFaYGJv5v+RXwyMxm58v7Uff6C3sRJwh6/5Ts+/M99RTv2NnD9VgB7+uKA3cMLgLZ+9wCQgGg72T17exF+zgEPPgM+Fr2lPVrABgJ0Pap/SwU8gCU6oXjEe3B8xrv3ffrCM8ARfYjBWEL2vGM6u7x6PeD4vnw0gZpADILNxZZCznyQ/RgCK0DUO/t+CMWhP0e894KXwY9/7YG7BWgC7wAl/mSCWb/BfP2ByYN3wNwDwkc8iAyD+cKmAtc/ojzYQHjCDAGbgs2H/cV6R0mEfYNvAs691j3BvcQAc7+0gPCBFUFJgYCBc8SZuqM9DoEVQhF+jLyJPZ09nHv8fcWDDEC2f6NCuULt/rK9cH27f6j9rXx8wEj/nsECBLFFab/MfEV+xDxCuL+9JEMFwcBBHwXMwZd/IkBuApv/j356u/a+8v6p/xW/t8FKwe7/W8IcweFBf/5uw1EBjD4lur9+9QG7/+KBYYGixDc+akDGA3OA6X34fZ+ArT0mfmsAukHBQY9CmUMJQx3957rb/lV7+7v5fBFBnn60/x4CAoBt///+ZH+6ucU8wnujf09CAP9o/3H/f/71fjYBnwBN/ed+psB8vi49ZD/sPsbBWME7wOAARIJDwbH+h/92/B/74fzR/Sz/1z55/UBApH/2PXH9KX0ZfTw+4YBpv7fC6P/AwdSCID/YgZr+LX8sPbuAcD5Z/gSA635BgEE+hsHjAlaC6wLbgbXA+Lvav3WAX4ISQNSBPUOVwQZCjQQ6Apx/OYCxfhW+DAAwgQUDsMJ3QybC9b/M/WWBWgGRwU7ApMAk/787UH+XATjASz7iAbIAyf2xPjQAe4FlOYJ9qbvQvst/6X/BAWuCLcRSwDFAgTwE/Km9x/5w/iZ9zoC5QXkBToHOPts+tn8pvrsCfH33fL4AhcKwwB8AVv+u/MG/VP9rfc28sTvmv2s/V73TQAIAQb8DP1qBnoGq/cd/xgIj/ey67f8QAGn9rkEqwz2B4f+lgUcCXL+9PcOCAUJCPnXCFcYyAxZBd8MNQe3+ej+ewIdAI/9XgLOCCgH9g8HDWQGNAlvEOQLJQ8bDL0DJ/8D/0UHjP/8/lgPABQjCOgT1hNyALv9wwV/BUzzqv5jDGUSiQcQD6kLpf/0+qz//f6c8aH9XPuO86b81AfZBiL3dPY2/+j9dfXr/i7+NfUa8vjzk/yh/ef6uAaOEAkBLf3LABn/+gFGAAf8h/od/C0BZRE1CCcEQgvjAW4AK/SR/E370AHU/LL6/AMrAmACMQIuCof8+vmb+oj4EPknAQf64/WbAcH/qQDZ+gf3IP7wBe/9zfX4+VTvO/F3+PYBEAPWBb0GPQXxBnv3Lft8+dL5KfbW+JT/AARKA0gHFQ8n+qsCEAM0+64B7wTdDkEHkAFMBr4OUgPmEqgSMfr7A78GyfmK+YIBKvwtBicI7gYiCVwAPwjVCkAKuv8J91v0NPva+Tf+ff9tAiAM7wPo/zj+TgD09Tb/ZQUB93kCfwMXD3IIYASqAo/8+f3eA4cRYv5wAXcCuABt/rn4awImDPkKfQbzDZr/4fkm/gr5oPSv/6wAVv+OBqwEAQhQ/jf3uPX8+cDtMPLO+8cIsgff+wMJ0PqE+T78ZgjM/IL3WgFW9PT8kfM399b6/vpK/Y/99AJI9937iPej5ubpFPLW9ev0qP/xBTgABP65ALDyc+JJ8Sj1cvlV9KfxPvxn/8/3mgaR92zv1va58Gv3KPpq//f/rP2E84D5vQBu9h4KFgrh+sMA/PgQ/Hj6Of9EBNoDKAr3CdARFgk6CI0K3vwk/8r/WwcdBa4KFyPlFhoGBweqAov4GgDnAxX5yAIlAwcLdAkj+qYFbAEzBScGqQSI+6kBxAwJ90n5rvav+MABXAcZBXwEowVDCJsBvvVY7xzyHPq2CH4RNgktBgwFNxDf/9b2p/xZ+nr3cvXABXD/1ANJDRAJegQ17Xf+YQZy+y3+Ywex9oPzfv8oACD9fPalAT8C+OvZ9ggIi/cJ9nEEdAL195X+TQhmBoIF3QlCBp353Pma+l/9YwS/AUQEGf/rAU4JdQJYCBv/JvYx/OP/NPkn9ZsBkv4WCRcD6gPjBEL3XgE3BOoFKwKYAaz8kfMI+1/+of9cAf4DFA2E+ar8N/wf94AB3v1KAo/8m/3x+yIE0gpX/LQFXfhj+i8FyPopAq8CQwUoAUAGTP/o+qL8Y/3yCZr7Hf04AQUAGwLtAG8Adf64/1sEqQP6BNECVQKR/g34Av579UD+EgJ3BYoO1QbNCMoG4wR3/X0EDgNG+aEBuf7TC/4Mmw1tEDcGcQ4mDLoHeQXpD0UN+ggfDtwFCwcdCuYCSAm0/TUDIwTnAVgJ/vxlBUX97wD/+BkAgwn6+14CG/ko/GH5YPCl7sXyYPmy+3//AgCq8zH9av82+/j2L/PY9UTvuvh3+sn+VgG09CP4LefP6h/uyf2w/zf9qwZl/AD9o/vr/MUCVfupBQsKGgle9ugCTQCs+BwArf/9BDX/kAtoCysJ6Qeg+0r+q/tq96T6pP7vCvgHUgwJA/T68wip99z/GgFj9zT8Yv9ZBN75RQCx+x39WAGt+icBGvdqAgcE//pc/QXwZfkz/DUDpwhAA+YCvAOBBG3/mwLl/n76SgBM+sYHOgb7CJUOgf8//ef40P4mAZ8DsPrP8J4C4v3f+3P89fy5+pj8oQoN/r747Pzh/U7/mPj4+j38/AD0Bl4A2QSW/g/9dAVR+rL4jvZPA+wDcAZxCZgN/wZO//UB/Ot76RP1O/6cAl78tQim/7H+x/58/zj+pfiO/lT+EQBz/h3+uge1AtL6z/8T+Ez4Rf+DAyoC0f+yAtX/Qfu88qD+EAbuBFQMwAMPCVP95fas+4P4r/qv+8wF4gkMCR7+a/3N+f70EvqG9Df1lPn+AoUC5P1w+On9HP51+QoISwvpAUPxOv7S+JnuhvjP/5YFbwLFBLf+TfuF++IDBfu38xEA6vn791j5yf6HAgAFOvr5AUL2h/Cx/Zj5owjwBDUJDwjqA6kE6/zkA64CAxC1ClME2AA/BmgOYgiiDc0DHQq7CtsOawiVCkMM5wLkAUf8nvwS9OYKGwxhCPsG3wRsAEb4pgMB/jb9f/dPBLv77gRWAwT/jALs+3L8L/aEAST3Nfwl+lD5ePRV8ib0zfei/Sb6OAC4/m4CZfkY/KH7EfOI/rQDlwadAJgEH/dl/T35wPaDAXv33gL/CakKjQMQEpcNHAOb/PH7ORIH/hQAvwMEDPYDzQQ2/yv+kf6B/KAGj/uMAFz/4Pdl81f7YPwX+F0ACwOE/OMCxQlfASf+rf7p+H73uPpsASIH/w2pA2kCnf4X/tkDmQELCBQHWxMrCD8GGQmMANECXQiEDEAF+gD6BDoCKgVICAcFgwIZBikHpQj0Bj8NIQ5pCaIEIQAm/i0C6wl7CRoHCwMSAmMKWgmWAdv8pwXlAQgFFAX1CusLMwQlAXn/5gLA9u0BqQYg/e/8bv8sBW35r/L0AIYAKvzqAS8JdvzO9uX6y/y6/uT9oP75/vj51P09ApcCWP5i/rT8Y/NT+9j9ivlz/3MAJAR9/+r7OQCHAcv+B/pH9/X4mfmp+hr+UgWt/m3/CQCeBAAE3wLiAY/9QwNAAA/8yfqH/6L+3/R2/UoBsv+8+gz7Mfvy+8sDBPsK+bQAUP32AK8BMP2X9ur53fUc9UD6n/ry/UYGmAOq/AH/7AJWBCAIvgvjB7sHWf+x/dgDFwN1BfsIZwmaBYEHCgyjAocCegMeA3UBoAL9AgEEzQLf/gsHNgN7+in5pf/J+EH4hgI1Ak3+bgDC/wz7RwH6AiUBLv5K/fYBbgKh/5cAbAD0/ogAGwSRAqn8RQSJBc/8HQHcBsD+F/hjAkQF+gB5ASAFvgMR/UH9Gfvl+HH3ywHNAe/5cAQTBF38vvrw/Bb96v3w/1MHxwNy/6kAIfjF86H7EgFPAakAgADEAtcA5fn/+kz96vv1/BIDkv3++kD/Mf9g/ov5EPfi+RoA6/0J/MD6aP2gAuQBZP3N/2wD5f/9+Ur9QPsG/qoHv/0B//sCpwG2/30CGQWhBBgGEwHAAz0BPP7RAXcDOwPY/1f5pf2hAv7/BwAc/NsClQCv+6gAjAEG/aj+pQH6+9f5tv1p/Mr8Z/1D/qD/4vjy//IG6ASIAhIB8wKn/SP7+P0+/gEAywJoBUr7a/0AAXz6sAI7BsYGbwLd/ckBLP8xALL98wOQCs8CswFRA2ACif9/AvsFtgOpAzQHDgDw/QEA8ftW/skEwgU5/pEB9wIxAQsCNQRzBNQBTgE+BqcBZ/3Z/BQCcQMn9zT1mgOpAg4HAArDAckBqgOxCrD/CQMPAgH8PwAZ/ET4mvmgApUCGfmj/t/+ivzb/J3/tf1A+/z5ZACmAC/5LwBzAEgDKv6S+qD7dP21/j0AIgMLAzYJowYdCUcGxv36AAECMvo6/rYAq/+f/lL8pAFY/pP4rvrU/qz/ggPM9x/4TAJD8Jz4ZPtz9dIBz/qK/acBg/98/BH+CwAXAJL/k/bMACgGvAFSAuIC5AFeA14AjP9k/3T/5weIA0cEqP7/ApcClwBXB4EJfwxr/BQEmwOD/VUCbgV4CE8CQgU8BXYHSwL9BbAEgP6UAncD2PygAz4HmgorBHQDlwLL/ccEWwOjBI39RwL8Ch8DFf8C/Yb9xv3G+zv+r/xI+2H97/48/ZL6rfrd+SwG+ADr+cYAJAUB/M35gQf4+LT2QP0lCFEFygJbCHQBF/3W/DQBx/0d9n/6wPtO+UP2rf+DALf1pf2//U/ydfRV/l0FUf8h9lf6NvDy8tP/l/q++sQBMQNr/TsBLPqa90v/D/xwA4IBFf9UBPICGf8HAswCXvqT+lL9JALlBo0IBARNBE78K/8x/979YADO+qP+CwV4/7T9jgE2/rP/qQAC97H5VwBdAigCy/0+ADQDVv5//tr9hgBfBiEGlAUrBZgAavbOAa4DWwPPCeUAEQQIBAkBi/3z/EUCegVxBFEDNAVs/mgAAgW8/jT74vy4+XL9EQCX/mgDkvvS+FADC/8z+Mj/ZQUEAzoEegNAAq/9xfh/AgX/Df59DHQJHwZrBvf+7AAEBXX+MQSgBaADNQZiA/H/pgALAw8B6AGMAH0C2wdDA5//HwKBAP4BzPoI/PECgPyeAKUBSf+W+r/6FQHi+7H9Hf+sAKT9mP45AzX8RfiL9Cf4jvq7+5j6fflp/aX9//pq+D/45foN+aH6mfvO95j0qfNd/Z36rfQf8IPzYfZR9vj3sPwc/Qj2Pv67AbT8MfcZ9mr5o/tT+rn7Ff5B94z7oPx6+pP5dPwC/kQFEv4o/4QDxwOE/7gDLgOkATMDOwIVE4MFjAFYBMoHYwXvBgIOEghIC28OWRBBCxIItA7NBM0FSgty++n8IP9xABgRcQnb/HL92P9PAqUF5gxlBmQD2fsT/ZYDhve/AC39FvfoBH4CIftnAYIHkPt9AC37fv0gChwGsQX+A9r+7glJDK0DewuKA40H1gtcAhoEXQ2yAC0CuAWyBGUOfQMfAMMFAwVg/uIH9f6+8CL/RgAzAu/9TfeGASr8qPAn/rP8Vfya/C8Bof5b+qD9I/y199D03ANVAtD/mwEZ+2QB/v5C++0F8wbY/UYBsQD+//MDWgROBIEDJ/5H/Aj7nfnaA5sF2P1V/On73/vl/q77k//zAsf+2gFk/yX78/oP/Kf4/vtI9aX5O/wD9J/7t/m88Iz8APxN/1D8wfZW/f8AqPnV+kADMfxg/Lz7bP6zAl72swJuBYz/If7t/3b32vT6/rf9Kgii/gb8LwTN/R/49v/h+5f/2wQg/+36Xv0Z/Zj/R/ri+qICYvdN+w0BlPz2Acz3vu1h/an/s/qhBQoLOv0OB78FNwI6/Yr9ZP49/0r9Bf+J/qD3tPs4+Xb4Sfo4/4YFzQBv+fwCa/vA9VMAD/9Q+Eb+IADJ/AMB1P2U/aL7ZvaqAn/7r/pvBc3/ZwLEAvABJ/5z/5f/egP+/on57gHx/Pf7wgAn/sv7kQCpB0sB/AShAt8BTQNDAukDhwD8/IT8jgIqAlj9Pf2uA/b++vp9AO0D0f/UAiwCMQHkBKkCDwmuAs36EP5PBFD87fjH/r/9tPia+lgDP/6j+IAG+ABP+zT/zwJnBN8B4Aa/AoUAKv1QACUFAARCChYCsgbEB5MEuQTyB/4LwRO9FmYNgP9dAzsKgAnvBGX+SAOCAOQDzAQ/AMUClAI4BtEA3wALAvoDmwlPBZoAsfw/A2gDCwQ4BaECLQZxCQAFo/xi/LoBYAfKBWkCMgWdAV4H1geaBnr/sPpW+wYAwf4a/FIDIgL1Al//Qvhp/A/8Xf7i/2gBsAKFBNgBwwA2/iUBRAnZAhcB7QayAyH/sgOiBdX+iP+kANQEnAAK/gkC0wdVAv385AE//tD5NgDYBYkF7wAJApACvgEc/VgCAwKc/YH9NP0WAgUAuwD+B0IDDAMlBVIC1/+4AfcDjP2y+Qf/lwAR/Qv+7QQ/AhkAOwFb/JL6+/by9Ov9MADX/isD6wLmAlcDZ/56+cP9XgAjAGv/Mfy7+xj5evpl//L8lv61A3L9+P5h/XT6X/76/rP4gQUYBQb6AAFj/8f/bP22/C8AOAW8AXUDeAeVAowHLQcCDwAEqQKCA44FygSrBUMTfwaGCtgJbgyFB84DxgqaAXAC9gSLBmUGGgHV/lAD7QOJASYDswnSATsBXQaTAdv99f1PAfIAK/udBIwKWQUmAbEFkQhF/98C+AWOByECLwE1AaT/2PpX/ocFzwbN/rr/1AVjAVD93v/x/dP35vsC+5j+/P9095r8qfYY8EH1k/ou8EPtd/3n/jL+Nfn0+T75vO4185kANfcT9mv7yfP99pXsDfjF+X7+r/7c/oD/hAAuA9sAW/5/+4L/jgWQ/uf6dAH8AWr/oAF9/pf+TPoF+O78Uf0//078eAFZAUn/1/0R/2D89PqtBJL+N/qI/vz8u/uS/+kAufz8/94BiwLoAtH8gv/0AsoB0gF1/fIBgwbkAu8DRwC/ArwClQHWAKQBbwQqAU4BpgSDBc8C1wG8AkgEgAS6A5oLLAHg/nX+NQJRBOgBlQrN/+7+0fwMAE3+6fpp/qQAaAPC/LP7qfkF/fj/NwEe/ur5C/32/fsC4ADO/JT4QfzlACv/j/33/zUBKf7wAnn+IvkmARICIv4EAMEARvz5/LL5uPue+TH3mvwi+13zbPXi+ej2ofi/9ef9wvrY8Yb/6fUs9rb7FPdJ+dP2sfPY+XABKP+u+2r4SfqT/Ij6q/7EAVcBxwIBCbELvQeNCyoJ9wMPA1YFAARTA8IHcw0ICPwHMQ2ACiMJeAeNDnUKWwSbBaYKoQQm/7AIXQcgBEUDjwZ5BjQDGgfrCTUD9/0bBNgIdgM4AqUFsgRIBXUDlwUXCK/+9ADqCHgCEwM1CCoJWAQTARABKQTeACMEvQaOB9kD8AONAlcB4/6i/xQDSwGdAbD/KQAA/Bj6wf2q/QH8HPhVAM4ASvrh/J4C1gB99/T5f/3M9JfwRfkt9zLw4PFV+Gr5oP2Q/1T6r/nv9Ff4nf3l97/2YgAe/uL3wvj2+Wr9gfwfBBsJXgSb/N/7jQQZ/mwBRgNwBQ8Ch/0yA479Bvin+4r/WP1z9w/7pwIk/Sz+GAKA/Pb5ffsW/B0A/gGl/EEAcgEK/nP+RQD//gj//gBHAsEDMALsAFkBbv9kAVL+vf09/PP6RAK0AWsCnQGq/FP74AIDBK0CTgw0BP8EZggC/D/4IwDP+Tr9S/tOAc3+7vsoBP0F4/cX+zYCRPqC/esBAgHF/WH14f01Ayv5efcq+qH97v9sCHcJwgOyApT+n/m69qz8TgB9AlQELQmlBW38If4b/8r/ngCyAJEDCAKhA1QDwv0W+9z3zvxi/LICMgNw/zgAtf4DAj35FPWx+CX6fffD/2UDNAJhBTH7xPAB6kD3yvt7Aef9k/rm93v5VQBp+T/51PcD7//2rfa39Dz/jfg+8U38F/ka+fL4Z/iP/1r+OvUl87PsxvD38Wz1A/UyAMb6if7+9K/6iv63+pkAFAXaAVsBtAlX+/z3Qvmn9Y76l/jrAIMGPgm1A7YG/ACGAhQPyQRXCYkCd/8RBG4BbgBPCLj/WwOOFDQQgAdTE6QNNgaxC4AEcgsrCkkC4QoECF4JxAhqAF8CKAZlAp0AzgNA/oL9ZgF7/wIDCQIEAvAIZ/1c/pkD//22AdMBMv8a/sL/9wOsCAkDuwHnCaz/qv/BBnQFKAk0BO8F8gSk/wkA6QHT+wsAagJn/xwETP5e/2kBM/4u/m0D/wAX/9cCNwB5A/v9TPkP/ST9Lvg6/uz+t/q0/nT8fwF6AXL7QP2RAIb5+P7FBCL+Xf4e/F8Am/6R9j34MwBH/4b+qAYDArv8dfUJ/sgDtf6mBbIElwGLAPEBfP1s/CD6IgKQAUb4cgLqCIwFJwDW/zACAADl/8oCQgIg/3b/mgQLBEUB/f93/9gAFf45AjP/tf3qAvMBjQP1A9EGlQQsBrkG5gB/AUAEnv5s/BH8XQBrABf/FQN2CHAEkwPyBooDOQGpAUoDkgqeAkoFMwwl/q8AjwQq/+ICHQBmAQwIgQLEBY4CkPf4/5kD9wASCJYBt/5VA9v7T/uT/pz/uAFACiT+LQHjAvT9aQTVAJgCvgOx/wP//f0Q+0YApgXQAu8Elv/7/HcDMP8oALgFz/9D/0sDIwKE+27+hf6j/mL/vvtZ/Kf6pf1QABT9HvqX9Sf2x/Ri9r7pdvrU9yL5S/1K8IX3v/Ja3fnxH/I+8dj1xPoF/Yz3UvjL88X4QPWc9Bj+P/w6/Oz8Dfjm9TH6sPh8/hv4w/1j/qH2HfpVAooARf7S/nn8rP7RAXMEXwViBggBKgKKAgYCZwS7/s3+jvrZ/10GBgJwCJ0J/AKg/70ByP+JASwEcgPGBgQDtQAZA6n/yAO6A4ABNAUYBMYEPQj9AWMAlAfwBmMEHgQ+A40ADQFl/20Bmv9N+UX7JgBWALj8kvtg/cr/S/5XAHf+CPs4/0H6Xvij+Yv3W/xE+z34pvf1+rv79v0uAn8BNPxT9zb5NADt+gD8NADv/gD/2v5qAFb+Jf2R/1MCmfwk+mcCBQH+/mYCLALX/r0Ad/q++cX8Ivg5/wr/WgDdBBEAzf9h/4f6Ev+9ASn6Of9uAB799gPvA9f9nPxo+m/9aABP/nQCsQQE/4j/Qf53ApQE1/92AJAAVv4hAgkCx/pKAhwCxf9uBM4BSAPAAhYIXAg+BpUG7QjVB+0C/AZ5AzIDlgl3BoYGSwQzA1cJZwf3BYkLTwjrC3EHNwOXAQsCYP2z/3YBgwJHCSsGSQX5BYQC5wNAA6H/9AiqCmoGTQfaBx0CzQALAU0CIQPIA7EFyAblAjgDbQKg/8QF8gIABLcEYgX7BTsJ2v87/Yv/a/jH/lH/hPpz/IsBRPqR/YX5iPge/vj3iPtWAff4E/1D++37PwN9/vH6Yf8r/qgCeQQ+/cn9TQCY+xX9Ov5+/IwEugBcA8QL5gTDBQAGqACyATv/Gv3LBY4AR///Awz/jv+1AHwCTAVfAiQBOwMr/RD8RAJl/LT8Cf/g+r0BqAPx/zQEUv7O+3oA3P6r/Wb7SP40AdoGWgOJACL+ifxLA9L/vgIRAvwAvgb+BgwJJgZdBq0KUAQaBFAIfgmjBKcDygg9A74KeQcpA6QGIAP8/iz+DwZmDZMGdQKiAQsDEf6WAOsD/wBE/BH64v53AYj6IfnFAIL5z/0kAmAB2/4L/5wB9wL+/oT9cgQA/7EBLwKK/4QEFwP4AUEEwAKU/jACPgGvAOoEdwNOAbr/Nvqx/TwED/+L/z3/p/uM/7f+L/3c/sb85Ptl/d785f74/2kBpANuAoH8qPw2/n392PvB+8/+FQGq/qP7zfzt/EwA2Pyc+hP+M/nj/iwC2wAZAS0BKP79/X/9s/38AAv6WPzhA/oA7PyL+sz5H/70AvX/ewMLAhP/5vq19vP7KPw//E7/aAIp++X4pvk8+yj8DPsj/ML9QQC9AJL+6/rnAjQCxfzg/uUAWgAk/qgBef82Au8B3v4+ByQCzgPxCY4FwgT6AZMD7gLd/d/+GwAK/r4CYAdDBa4HugI7AvcDFf/BAPQBGf9FAYECcf6D/f35y/gX/bn9/f53A9L+8AGdBEX+rwFZAMv/UwczAfv+bwBL/YD+fAAD/qH+uQF//U8AK/9LACUClP5bASUCYv9C/57+TfwzAWwCXP1M/eL9UP61/w/6PP+8A5cCEwN6AtMAAv/XAKwBqQS5/6IATgUOAqcAUv8d/nICOgPB/tgCK/9o/RsBx/0F/ogDWQHk/SwChQIK/hoAPwI4AtL/Sv1J/4z+Ef9RABAC8wFaAhwCdQEwAFb/PwNdAJn/kgEWAQIAAP/7/l//lQE//3X/2PvD/CcBb/75BOsFFgAN/7b+mP8i/mP3OvpI/bv8EADGAaECsQCz/7H+Bfy//QwARwE6Ad8DIwdDAnkDlwIO/i79egCmAW0EAwRc/47/lfvE+7H/cABwAJf+CPwa/K//fP+n/QL89/YE+2r9Qvwf/hz7afyd/vT2J/wdBAgDUAJwAmwDXgArAYz+X/63/wP/rwD4/CH+IAFOAmb/LgGvAef+HQCH/3YCTf+6AP4AJvxe/kIBcf2Y+TL8Yv9RANkAGQGb/20Bv/11/0b+d/gy/jn/Sv50Ab37pPoS+4z4If6j+9v4j/7D+ij9fQDo+DX5x/wAAKT9svYy+Y/9vPvF94P7l/WC9bT7lv0q/Wz+wv80AQgA1/1XAF38r/t9/r79uv5y+5T7wftU/Yf6APx4/Uz6U/3A/5T8YPzZASL/Gvmh+Ab62PcK+VH7rv1B/nABbwP3/2L+Of1JAtMAVwJaBZ8ExAPeAZUA0fu+AXwBL/8dAUEB0QJAAvL/Nf+wABECTwWDDEMIzQOrAxIIgQEKAWAF1gBd/9YDHwOrAbUF5wBPAlgBHv/UBDQBfv4B/cwAv/+J+xH82f7+AbAABQOR/6f+3AOM/LP6W/sQ+3f9H/ns+4EBn/0p/Ov71/yx+t/+rv5z/Vj84frb+w33D/f/8O7t8PY1+I/+1f+HAE8AsfwW/gEBlQF5A5oBBQHh/5oAFQAf/af9xf19ArQBoAEfBOcCvgHo/93+vfgo+TH6lvrE/d/+vQI4AT0CjAH3/P/9B//JAP0DUAKOAQAESQMwAFcB2QDn/5oBewIrAQUBJgNKADwAPAVfBBIFBwR8AbsDmAKM/wMDkASZAkUECgOHA2QCugV+Ay8FbwbsBpoGhQJlBH0FAQjVCi0KeQlPB78DaAR/B24ExQRgBTACYgShA+UAqQT4CPoD9QEPAGH/CAIVAhH9ewGJ/WL/kwP3/rUCLAJr/GD+MAJbAZwEZgK0AvUBsgBpBlwEDwiTA5kArwAjBDgDGwYWBVwDcwWzA/AGKAkzBif+wwTRBzT84f68/Y78uP0m/RoALwD4ANwHJAS0AroIOgm+BmIOnQT7Ao0CFP6SAHMBLQF8ASUBk/79/WL+lwYdB4wA8ADlA0UDdwkBB2j+OAAc/37/1QGZ/9sAawBv/Rj9zvq6/wIG1AF8Bf0EFgKuCjgEHAZlCZ0BPv9y/6z/6wCUAYT/bgBVA5kEXgY7BjIE2QdIBCwDIQYlAYQJYgF3/QQAdgC4Ao4DmgXFCWEKZAZdBRAFXAGfBbcGnwcXCOYFcAonB54AggMDAm0B0AKF/lr+owCYAJ8Dzf5W9Zf/h/+W9cr3bvqE9v/7lPnM92L4lPTl9nH8d/gD/mgBFvr49R76YfUv9a/4dPXf+3f4+fm3+eDvQvmX+RPxdPMK9w/0+/lz83Tv/fJO8xH21/ck9kb5KfqG9oT9yPzy9yr+Wfv1/cT/zvsS/U77cvki+tz5Svfg/ev7KfyqArv/XgGyAXr+PQQJAIP5xf+G/Mz93QAd/aH8Ov6l+pz6Kvyd+Yj7hfzK+kT//P9LADX+PfwI//v/1wCE/9IAGf4/ACwAHv2jBkwHqALSBLICZv9a/+/8Lf7j/4kAEgX5AWUAxQEpAo/9xwLeAPb7MQKj/ZcAZQI3/mUECQo8A+oCMgFO/uv9A/tb/W4C7QEiAm4C/gAJC4EFlP21ANoAcf3OAXf9LP78/h7/JQOxANABYAXT/UT81v4s/v39a/uB90b8ov4S+VMADgC9+5oB3wBUA0sA0ACA/kLzF/X/AkoIvwNwCaYEGgFD/tH9pf/8+60B7QSUAnUG0AHEASoACwE0Aob8XwBV/vn8MP/1+T//iQCa++/8f/gw/xMBJgAJAOz+dwHKAfkBCf8BACwDzgP3Aq4BTgCXAp/81/4FAS/+TQL0BGUC5QBpBtgAGwFq/8L/mQDw/ioFSwTFAzkBjgGXA2cBMfn99wAATwLbCC0GJf3TAQD/AgF4BWcCowIRCPoFQQKZCBYDXAAPBMYDewlhBKEBcAb9BGcDsAE7/XwCxABD/Cv+zgO9/zwBBQGgAOz/Nfsl/NP9/f5O/9z+u/yk/7IBBwFnAc38FgFSAwL+JgBBARH70fv5/Qj+AwLbA0gCBwJj/ugBxP9D97P8Ev83/0sBNv9uAQgE1AEfAmf/JwC3/3r9APv1/gP/gv2PAeACMgXmBqcESgNEBN3+Bv8U/qP/UwMnAa4A4gATBH8D2QFC/lsDYgG5+u4C0vyX/PQCtP8bA4MDQAHNAMMA9/z5AWIBRf52COUB5gFuCDsGKAn3BZ8AsgaaA1r8/wF5A0gCHAOjAXQCjgPR+lf+ywG2/8QBhPrv+rz8uPs6/pv7svXL/EMCkf13+1j7k/zw/6b+Sv9+BPD7uP6HAb77bf71AUoCcgACAJb82f/YABL/mQUgALgBzQaiAJ8BAQA9/Wv/mf7y/nsD1QEt/vMBKALRAA8CCf/GALUB6f+eBn8Bl/+QCRUHfAFAAmYGBQg2CbkGzQqHB7kDWgvRBgMFYQNNCfYHuRqZAdv+VgZlAg8GjP86/WcBXgCg/f3/Evw6/XL+UvfA+nv6rf15BLMDPPcYADf+ofnPAhQAEALzAbf9nfvJ/gUAd/w1/FX5TP06/SP9/wJ//g0A2gB5+gv9nP0i+5L8k/dX+VL99/zr/X4AHv8m+yH9pfod/dD+Vv6SAz/7kPtV/o77RgEpDS8AsPxi/ZL75vxP/In6OPvY+F34CP7v/KAATAIj+Fb8s/xt9V7u/e3M+QD6zvNc+6n1mvjYAuwBFv4e+s/+NALq///8vQJmBlkDYgXGCWYCGwyHF1EG0waEAV4CrgMuAv8KRwP8A14T+Qn5CwEM2g5cDTULwv8lAl0FegbUD18JJARnCEgGyQJYCqgITwdUBej9cgCzAvgBWAOFAlr9GQigCNsCWAb5/x/3a/u7+cX+rgMd/vUB/v3z+3cBWwD3/qIBKQC9/9v/Ff20AjoF7AAOBDEAmvmkACMCGwIZAHP7kv7N/hIAcAFq/uH8gf/AAB7+af5K+in4Vfuy+AL6+/59+Hf+WP6e+Vr7Hf6b/gYAYPuV+/v8RPrb/Hr9s/6IBQIC+gF/BtT8e/x7/bz9NgFOAEgA8f7J/jH92v4o/4r8O//2/e/++wEw/D/61fxJ+xP/nPvI+YX+jfzZ+LX9hf4F+8j+xAEjASYDvQRQCPMG3QXHB1oD0v1pArMDGAf3DYYLaQsIBQgKKQytAkwHgwu/D6wHVAZfBB4AwgLKAxkC3AFa+/j8jPn3/MYDHP9yAqAE7//g+9P9K/ya+/P46/my/fD3hfnT7Z70VO+e9473ofin+pX4tvnr87PwFPoo9wT85/yi/rb9Zvmp+kj48/0q/+L7OPeS+3ABLgBrCEQGCwFIAWz+0v5H++P7hwKTAE4B1gRo/Xf8S/YA/FX3jgCrA3z+qgHm+lT3Vfyr8+P77vwc/a/96gCE+T/2Hvx19zf8qPym+2YBPfsf/roDKf/5AcoAUv9/A/YBsQAA/zn/ZgSpA3gALwSSBBMBgwYFAegAsgdQ/+z7wQQR+wcAMAFH8RD6OfxG9un+Uf4Q/R//gAAv/KP80/95AvYEFwEaA8b9Ffm3//H5pPbpAQoCSAPuBbAC2gamBckAof5w/o/9if+f/J/8EQEY/cz+lQAQ8Nj9Svyy+Tr9ZPxe+jv8j/to96f8fPy8ACv+A/i1/Xj/u/yn/wX9JP1FAEj2mvsI/cr+jgeWAhkC6AKt/OX4OPye99r+ZAZIBLcFCQhZAF4Dt/2s+jQBzv4qBGkCjv4DBAgD0ACKAVIBZf2v/179Bfcf/nL+hf04AAP5SfsO/0v/tgJGAW0A5ARFAAz6Fv6f/HYC3gWg/9sBwgCP/7gCif0S/vMCa/69/vYB/gGCAm8DkAPfBygGGAicDR4I6ARQCSsB+waQCIEBsgCcAWAAXQURAxYFjwSVBQEBjAUIA4MCBQhB+HoAEADV/dcFKALX/0cCl/4IAiQKTwLgArcFDgTGAeQB5v2UAyf+jPrR/1b9kgSoCX0CeP6qAiABqwDlBC4EswI0AocAiwE1/MgCqQOpANQAUAVqA44DnQJxAdsF4QIZAlYCCf5c/2IDT/6/AbEF+wBYA7v7avw7AtT/GgBjAuwAqgTLA10AsQICAgL5Ov5uArYBoARJARMEsAnLAs8ELgQZBYoHCwpjApoCDQaMBHQG+gS9B5QKuARlA3kC9ACSAr4DRAR/BPsBGwRzA6YCWQRFB1cEpAIhAsL+d/4y/3H7ovsBAAMDAwOfAbQAB/81/3gDLAFY/+8CUACl/m8BSPx9+az/WgHUAIH7s/3P/u3/j/6f+0/4//tG/Yr4Kfhz+/r10vgl+173gfji9yj4b/kY/Ib5r/zj/77/u/+h/qn9pP6Z/FP/i/6d/tP+jvrY/okApv2+AysEMQKeAWj8f/vU/XoBugITBSMD4wJMA9ECGQNTA0ADPwEpAWUDpQH6AxoFGgK2AHH/GP4Q/tL/6/xfAQ7+2vkX/kX+OP7EAuj/LAB6/2z97/49/BYAX/3r+6v7WPyE+5v70vwz+lD7XgBJ/GX+QwDe+yL/2fsv+uL6Sfg2+6r7svucAk8FKP06/2cGPQMfAAQAw/1FArIBcQNICcQAwANEBNcCdgWV/jH9Uv/59igAhv/6+0gD0gO1AL7+dPtI+d0Ahfzq+br7W/k4AMb/Nv5oAHQBZP5wAHL/e/vSADf9Ov5UAMH89v4+/0f84Pyz/Yf+YgB7AFkHGwWV+sf9UgAN/mX/8gBu/ZX4s/oo+5f9bPiv+y3/jv4A/wEClf0a/vACw/2o/FYAnADPAu7+5/+TARIAhAAUAkIDUwUPCXADsAT8BOIESwfTBfUEEASQAbABLwFLAesD1wauAEYFigLIAg0H6AEnAh8E4gEiAuT/wvo//Tr+DfwhA9b/4v0SAA/8Kf9hAcX/3f2C/jkASAAaAIj+KgMHAdb/pQEu/xv+8v8vA30BAQJVAnIDlQAt/zgC1wE6Ab4CNQS1ANsD1v7+/zMChPs+/43/GQB/ACX+Q/5OAuECdwH+BL4BnQC//Zb6pvlY/zb6Zvr8/JH6vv6F98D7x/3+9mf5IvoZ+rv/svyQ/AX+gPj0+FD5yfp4+gr8qvx/+8oB0P7f/9UBrAKxAmED0QI2BHUAyQfyCPIDdQR7ApoCegQ7AqkIgxO+Bdn/6AHi/LUACQHp/5EE3v8nAW0DxP2i/9P+YQCKAzYA2/9lALH+1P1PAn8EkAAmAXD/cgMdAfH9kgS5A6sD9QS7AHcD7wXw/0wFuQNlAAMHmATWBKYG+QQ/BJcD7gLBAnEESQAYAYQCdf/k/675HvxTAdr7If4NAcb+4/5J/X37Ev5i/LH9LgLz+5X6/QAB/bP7tf8b/f7+ufzA+yf+r/lm+7r5y/rY+4T9QfwA/0kAEfyk+z/+Cv8HAFb+W/v3+zf8hPp6+nb6O/yY/BX7p/0T/RD8C/03/Tj/twKQAZ0DyQNRAOUBIAC/+3T8dfvm/uwCJf2x/1wC+gAxBAEA9AAsAqMA8AN7A+QDVAK7AbT+G/+T/5gAEQdCAncIcgaXAsUFVv2GARwAkP9YA10ENAFeAfMDVgWG/8z8+v50/dQCIwFL/0ED9wFK/9L/NQDL/aP+X/8fAC4CJAKEAbD/VAO7CGUDPAbBBcEEpwMrAQUDagP7BAACjAJaAewCZQSZALwEEARIAsj/J/87AFEGqQELAXwDuv9QAun8e/j7/GX+L/0T/1UBQwHNAM//MAD6AKEBmf8JAbj7hf1d/9v+lQCk/mn/ov5Q/qAAMP+P/h3/Lf35+RL6xvz3/G/8QPwj+mT8T/vR/L/8JvyT/t3+d/73AsgCngI7BigAYf9OAjD+0QAb/HP8AAOPAHb81/tU/d/+Df24+YIAlgL9/94F6f1k/lsBlPnD/bH40fkt/6P9tfVd+Gr+6fTh/tb6U/yYAYj2QPwNACv7LQf9/5X80AHqAu0CEgOrAzQAnQSnAqoA0QM3/UH+nf58/H39Gv4x/0QC+/0z+wz9Y/mCAPsD2QOvB/MFfQKnBrwArAHmBiID3QV3CLQDXAMmAE/8AQWlBXkAhQU1AiMCTgk9A2MIMgSYApMEegZgBHEK+wt1AVcEbP8y/4MBX/yDBU4HxwS4AzAC0AS0BEQAKAWHBCkDqgF9/1j/nAIsBkIAewCnAHj9pAIp/+r+uAOVAPsCBQGR/sL+sf3c/ET/2Pz5+zL/FAC6AH//o/68AYYC4P8aA6oBZQDRAk7/vv1yAFYBqf9sAMH8WQBFA8YCLQOWAgUCVwIzALoAiwYrAkgDYQDL+6T/Gv9u+6f5m/nz+cj9/Psz+9b+Ev92/Vv9zfut/YT9lv2G/Jj6JABUAj0ATwCOAZb/TgAmAZT8agG/AdkBIQYnAYv/pgH7AuMApQMrCAsDxwKD/5UBLAHG/eAAbf49AIsCpPxR/VL/If1D/UEC4gBtBrYIKP6EAUkArwE6A9X4r/+XAkwAJQdFAycB1wLe+Pz+eAI6/pD5CABhAO4BXgCn/7wFcf0c+0v/6/vX/poAsvr7+339gPrH/joBeQHnAiT/A/xP/vT3sPv7/Zn88Pvn+qP7svt/+Y/5pfnI+0n78fsh+Cz7pP5B+1r9E/xR+1r8Q/eT87v6aPkP+WH9LvvP/3r9A/xp/ez8Zv5gAMAB0gLTAxwC0QKpAMX97QAw/1f8jABv/hr62P0P+Fv+6P9j/NX+Sf+O/7n8jvo0+P77Kfif+7r+mPn//af8OwFlA6AAJwD8AAQAE/6QAC3+CADCAdf9jwI0/xD8YwVDBHsHmwlSA0EGVgYqAskHewP6A/IFav/xAG4EPAInCVAShwRxAlkAcQCLA3gADgBfADv/j/7pAEn+fP+g/bj3LABg/r/2+P4v/YsCOwK9/ykBrgKcAqsHbgGO/6QCrgI+BVgGjQQ7CCANfgEZAz0CZf/5BFIAowCvAaoCHANXAbb+vQA9Anr+jf8bAFkA5P/t+6D9IgSTAHUBvgPZ/FIAlQA4/3kC5/xm/UgBqf9dBIIDeQIhB0IJJwKU/2UB4f4U/1/8R/zeBhcF+AFdA28AHgLPBC7+rgGVBU4AUwYfA7IAWgX/Al0C/ANHAwQEvQG//PYCFgGy+WP8Q/2//RICEv2+/JYBe/21AHv+cfvB/Vf/qAJ4ATUAjv33/ij9I/6kArUArAPzAwP/gv/D/xb+6ACX/mT+wQHbBf4ETgBq/iEEHAQo/0P/k/5CAtgBcv5FALP+Rf7I/qb8KvxI/pP/QP6j/Y39Lv4F/8j/9fwn/139U/1Z/FT3O/pi/BD8AP///s7+cwBg/MH9//+K+Qf6yvsQ9h/5V/xL+ov+fv4t/iYAGP6G+t77P/oJ+mH9df1y/kr6df0iAzP+N/0j/tb6LP+b/if9ZgFF/0z+kwAEA9YBLgA5/xn+3f8DAB7+IQCV/pj/Nv+9/pIDEf7+/8UFQAAyAukD1v+y/1T+of16/xP+Bfq7/tb8mfzGAhb/pAGgBJ8CYAWkBEgEigTqAU/+AP5fAFUAewCo/z4Blf7M/ZH+Jf9EAO4AGP/v/lQATP50AJEBPv8LA4MBegAABs0F0wSkB40ESgfUCMsEnQSrBlcF5QcUBFcDIQlECCsG5ga0Ay8GCwcYAs0ECAHjAJIDIwOIAMwEZAKuANcFgP6n+7H+HAG2AG39hPvz/NT6+/gzBJD9Gv7VAW0B6gTLACoBWAarCEsCpQXRA7cBlwWAAQsF+wGgAfL/PAPUAIIELwghBM8CaP5RAVQF7v+KARICCgLbAs4DGQCiAC4DXwHQBzgC/wLsAnYBaAFH/yD99/x0/h/83v1z+Rv6Ufs6+7T1vvob9vf5uf7/+68AxPze+r3/kv1W/Lb93Pw9/VQBAf9zAHgBwf+wA9oBHAJGAZUBmgIQBrcDIQNzBU3+3AHGAuMAOAHI/scBngN+Adn+eQLSBZ4DmQJZ/6D9wP4U/Pz+7v0Y/UoCvf7u/ikAKwBR/2/9Lfyt/swAy/43AAEDggKlAqADoAJ6AlADiwHk/879MgHy/w//LwQtBGEG3AIL/nj/HQUq/8j8ZQDX+vb+uP7H/qECPP4d/XT8jffl9OwBkAV4AnEBfP56AzMAn/70ARcAZgCh/Ub92P1m/ysA7f8JAT3/JgVmAhoC2wMC/9L/CgE+/lz9rABIAFQGIAYVAvgA1AHMAnUA0/6XAugCwwCXA2ADPQQRBy4FdQQ+AXcAi/+1/eH90P2L/vf7QgEe/gP8egDP/GcAZ/1E+lP9U/yj/NT9nPqU/rz/9Pyv+w/8dv3a+y78xf03ALn9Rv7NACT/Tf8s/v77bP5t/Ln+g/0G/PIBhgAHAQ0B4PpJ/gYB2/4Z/3kAwQE2/bQAXwY+AQYA2v0OABn9B/qqAPH/dfzk/M78jf60BcgBlANPCJT7BQDPAqoABAJcAU0BZgJo/w7+GwNkAQwF3wMeAl0ESAPzAIQEngO0AV8G5/1pArsFTgO4Bm4BGwLiB/IEMf8JAxr/gf/2A3r/l/9f/2n8B/8d/jH6Zf8W+s30W/tL+bH6gPiQ87b1J/fY7o74FPoB/vL8vPf69l35Dffk+ir8dPAy+ksATPrf/ED3Bfbr8Vn4gPtH/Cb8dfot/Cf8mf+y/o36vvpg+Gj3wv8fAE39twGY+Vz+G/7894P6Lvfc/JwCe/9893n8LgG+/K744vuM9y/8rvwQ+0n78/lCA/X8WgA1BbP+4ftz/8j9Av9vBSYAfP9BAyD+ggM5AEX+owlDBQcLjwUE//UBOQLKA3YJ+QdQALUEOgKnBhsLQgbdAY8GmQriDwEJMgYaBscC6gXYDXYJQAiZCtgEwAYJB60BtQQFBooDzQRsAyYD6gT0Aw4BqgI9AlMCwwRRAtABxQBcAHMARAFa/Pv+Kf4c/ooDSQDRAdH/uv51/wL9Yfyy+277bv0HABsAvv8KAjcAqABWAVf/5wHL/y0AcQC6AJwEFQTK/2cBdwO4AIYBgP8dAf8DMwLHAjUEzgSLBCcCngOFBtIFcQL0AkMEtgDaAh0CMAPSBA3/tQGU/4j7RwFk/Xf8NP+4+xH7a/qv9jj3Wfcv+L36a/xz+Gf6Ovez+Rf6B/cR+sn5Lvsc/LL4RPh+/Pn3DvZf+EX9XwRfBW0BLwE7BukFkANTAB0C/Qe5CMYASwNh/wMAVwmpAqILQAuwB5kLNgeWA9oGawaBAEwBdPoJ/gv/TPNG+271v+1i+zv59/vc/mn8Z/58/pb5iftg/iH8C/r2/b/5XP77/W0AsAPt/tEANwAEAXAH4v/V9mgCYQKiASoG2fio/7z/Of1qAZX9kfs5AaYAs/2XAuIDbwQKBbX/UP/4AlsB6wR9/TL5TgMY/Vn6h/2Q9nP9FwJD/D777P32+Xb+zP2q+m39LP4e+yr9VvbT9CX4N/d+9//5wfnd/a76Evw3/yH9cP52/PX5gPtY/g3+WP0i/cL+1P7c+Zv8wP8FAGkBpf8u/f398QHp/m79WwHJAdQBcf2r+TQBwAGRBWcDcP8DBfgEawOuA9UBEgTpBAAGSAVvCw0GTAFGAoMK0AlzA7UDOQPMA64BHwZ1A+wB5ABj/6j8t/5//y3+qf22/LX95f5B/Bj9Zvf2+pj9NPsk/pgBN/zH+7H5Uv1NAtj+6/4mA8z/6ADoAq4E9gCIADz8Uv5D/bH+DQPr/3wBwgAy/c//HQj2AZ4DrgRm/Gj/ZPtr+9v9gf3t/Vr9BPzK/tv/EP8yBKv+OP6sBOoAVgLfAbIAV/4A/XP9ff/X/gH64fy3+l7+rwAX/Nz8J//1/c3/pP9B/oH+hfye/XUB8P8jAfj/y/2y/V39D/6+AfgBifrq+Bb+6f4R/zb4j/yP/o/6Ovze+rb6Cv2//N78MAGV/0f/rf8l/n79Ov8x/Cn+If+M+u7/pv8J/k//pv62/3H/sv6sBpoDTAIQBIYAgASQBqICBASKCCcB0wgFCKkC0QbaA0kBywbaBHkBhQU4AeT+mQJMAzcAiQGa/rMDTwVZAMYEpgFK/2ECfP9VAFkBdv4eBc4EogHRBeMEGgT1AywF5gToBZMDOATeB7gEnAl5B0kBvAgTBroCEQZfA1wI/giiBkQGewWgAk4D0QLJAdgGGwEt/hgC9ABfA2ADAf2vAJf+L//cANMCOwFMAkABbfzLAKb99/7N/wH9QP3v/WD97QDn/pj8wwFuANYA2ANYAEH+rv6o/WUAyfvv+1oBXwHqAfcCBQD/AtkE+gJFBsgE+v8CBXUFkQbtBooCggNbAiUCcgICBkYIwwJNBoECDgOBAhkACwOp/SIAxAJY+m/9Jf46+OD7xPt++4j0Yfb/9u/6nfr+/WT/NfiZ/kb+GQBu/275WPtJ/eX79P0fAA/+D/4VAY0A9QCl/Gj6kf2O/R8AeACP/2D/nwHUAIYClgFZ/hEB+gF5AyQIEQCiAYgHyAZDBAwCcgD0AOkCpwCBA/wCZv6qAFABl/+FALz7hf2N/yYAv/7T+xf8rfwX/ev9SP96/G/8Hvsx+an8Ev3l+bj91vuQ++f/ff2J/wYBJgCIAHv/Q/4x/rf9qvpQ/mP/2P7HAhAGWQbIAfgA+QK+A98CQQEKAgr/ZP9YAEP+tv4y/Yr8IvuM+wn8Efvw+2v9VgA8/t3+Fv0N/DX+AvtE/Hb49/Zf/aj6PfpE/9f+YP60/G3/TP7P/ib9k/wA/gYA2P6B+HL8OgDC/bb6cv6s+pf7+/yV+iYAtP4qAMoBNQFTAOEA1P/h/Fr/aP6o/9sCSwJfBp4DbQHHBxn///9Y/vf+9wSvAj4D2gI8A2QBZABpAEYBXgBTARMEoP9D/rv/rQAx/f0B1wH9/QQBzfsi/vP8sQDGB6wB3gAJAVL+OP/QACr/EQHB/x3+Ov+GAegAhAAt/9z/sQER/aYARwIdAB0CYAJ6/uEAt/6h/gAFegCGAE4E1QElAVsE7gHvA1kIOwU7B28FugO5BiQD/AG6BvUCsAZKBkUCNQa5BEEE8AVMBPIBTABW+yL9CgBU/ukAxv0+/hYENQKy/wACV/8vAHkCbP6r/R7/oPwo/7X/I/2aABT9mf0QAHD6P/xE/z77YQDDBff9o/9jAhT+bQPRAKb74P+3/voBqwO1AaIEFgaHA5cDcQCxAEYFbf46//EBKf4WAiIDtv/n/60CeQOEAvD9zP8WAun+DwDiAFMAywDwAC4BUQcwBt4DwgfdAesBvAN9A4sE+wIgAJX+xf5F/Sz9xv3v/lsBAwCn/Tf/IgFKAjMDOv+4/HcBff+DAbkAL/64AeYAcP24+w7+Mf1e/6n9jPsJ/07+nPzm/3n9Yfzt/S3+7f5E+978hv3K/4IA4P+w/Q37wPxZ/nADlwHa/0D/tv66/5r+3gCWA+//X//QAaD/CgHIAA8BCwBQAef9x/9uAl3+8gGsAYkAxv8x+1T+DAHZALoAuP7eAqX/B/81/aX+Pf4g/n4B3/9mANX9X/wb/2MCdwBVAxUEtQJ8BGICwwPtAf0DzwaABPQD9wUbBjwFnQJhCNIFIwaXBH0DZgZZ/3kA9APNAl//hv0V/CYBMf48+6D7ovsa/zT8TfvD9gD35PQ/9xz7G/sb/Rb5W/cE9vj2OPoA/Nr4Jf6TAQ/+0f1z/zT/ZAGi/qb/ygCMAIQBqf30+5j91/5t/j0AQf+rA0cITQNuBX4DIACaBKL/igF6AU7+6gUAAhIAGQIhA6wB8gN4AYz9dwAd/5oAkAFk/7YCKgQoAckBLv/X/lUB5vtO/5UAKP0MA6b/y/16/yT8BfeM+fz77vsRAGoAqfza/Nf5CfpN/tr82/9g/e78afxw+lv7sPw2+OP5wfff9S/6ofja+IP4wPj79yn7gvlr+Cf7f/xe/fT94vtV+dr9mv84Ak0CpP7FABUCxf/0AWj/HwDDADoBJwR7A3EAHgSdBq8CSQFnAtQCdAK1APz+jgPCAbEB+AGk/j8AtAG9/ngAJf9zA9z/fv72ANH75f34/HwA/P/Q/34AFQCHAYP+ev5dAT0BogBK/rr97wG+/tQB1gI3/Sb+8P3P/wkDOgJHATgDUAKYAtgEhgMtA+kAAwC5AwcBygB5ALkAIwKQAQ4CigIYAmMD5AHcAowB7f26AwQBOQPMBrACTwOMBPIAqwB6A3MB6QX/B7MD3gTCAGAAOgOhAjwFEQG4AOMJ+AMuAhn+mwEEBvQHDwMPBGwBXADgBUH/HweMBCYAZQEzAQkEsvw6/qUAkAB+Ab4BeP4FAZ0BYAK/AkkEbAQX//sCEv5SAOj+xvwiBZf9ffwc+hz7tf+F+979X/9JAmP73/t0/Cv6Yf69+mb8FP9tAe0A7/5u/zD+Zf2fAUIHdgE/A6MB3QFO/9f/yAKQAbQF+AK5A6cDMwHYAnUCMP7S+8oAvwB9ATkAvf4bATYAYf6tACsBOP9bAef/qgFGB40AZALnAeoBoQe/AZwBgQJaAd0AbQI5A68GvgMaANMC2wAzAMYDUAAr/2AEUP7SAIoC3f2wARL/I/3Z/Jv8K/0OAPYAif52ARD+kgBLBeX8oQAM/kX9w/8L90L6svuF+6T9O/1n+4T++v+G+YX70foO+nsEW/51/IT9FvY8/7MCEv5//0r+fv9yAnj9DP9QApsDqgf6A6H/1QF2Bez+gAH7/s77Ff1h+2r8GwI/ArT/sAHf/Ef/h/4g9+//ov4c/sj+MAAX/Jv8Ovs89AX7SPbx/S39+fhh+cT5ifdT/ov8Z/0h/lH/qgBH9aX3wPwrBNn/hv44AED7pP3o/tL9qgRlBtAEUwKRAEkEuAWp/xAEvQGHAf4Da/9KBZEF5gHk//oECwFVAjQGPgNjBd79DwAKAyUC6gHtAdMAOAPyAPv9xgB4ADP87P5uAXP/4wFp/nv+wP1H/w/+Xv0J/TIBHAOxAIgEWP/P/mcAHgEXASsCtf1K/tP9FP6f/w0AngDT+3b6Q/sL/RH9H/rR/Nz5ff75/fj4yf3n//D82/7r/M/66Pvc95f5UP2G/eb+hP5V+S38cPqh+1v8kPz+/l4FdP9J/TMCZP79As4Cyv0t/+b/1gH3Acn8xP+MBGr/fAGd/5j/CgP//r/9a/1n/SH9vPu++N36nvxa/kL6DPgZ+6P7GPx3+zv9av5eABQBTAL3AsH/RgGCAMn+owHvAs4DMAZzBYUB6AIbAzYCNwaHAy0CugMgAKwEkQFTAvcD0QI2BGYFQAZRBXMGBQK0ArcBUv7kACgD1AVRCAwDWAMWA24A8/9XAQT/TgHuAkT/ov95/U79+P6iAQsBAALqAzwGywKYBEEIZwPnA/kEygdDBPcFuQEDBfEIPgcNBX8BvQObBsAGOwiqCC8IoAIIBHIAO/yDAGH98v2g/koAzwC5+hL6Sfy9/CT+UP0V+OT2dvqm+ZH6B/0F+2r/Iflx+iv9dvnA/5L9mP1qAyYDa/35AjIFjwMdBhECfADFAeUAFAN0CGMFJAc+BnQF/QtGBdUFkgyoBN8CkwaVAaAE0gfxBJkIIwTJ/s0CewEnAEwC1/6cANkCMP+2AQ8AjwB8ALD9JvwT/ar9hv1u/7P9pf6W/qf+GwFl/3v9a/zX/+79vgG3/6sA6QKc/xoCsgguB+cHSAaz/lwAZgC2/QoBY/4o/rUAx/yj/0D/ZPeqBPABywH4/gj3Ovyx/Jz4X/4YAUQAnf/u/p760f2x/CL+VQAj/BD+Ff7Y/E4C5AWX/vgAlv9j/J4B/gSHATEBQgLc/kcBYP99/OQABQBIA1kBof8J/yb7+P5r/0H9O/98/nX8Wv3W/MT56vi993H5Pv2e9rP4YfyS+c371/f293L6W/nY9Jv2gfE4+Bf7bfqaAAH+iP7//58AOwYcA/L8BQWiAST82AX8BAD+8AlCA2oA/gbEBCsCFQMjAhsBgAKHAYcDXQXkAgYLkggy+8QHvAHuAXIIF/TT/zn+evp4/DP8xvoQ/7n/Hf7l/z/+XPwB/hD8Ef/z/5r8GwA9/1f+Qf7G+qn81AHw/xH+a/4c/60ALvs/+mICUwFw/swETvvj/bIDefwp/pH9kfqz++/+Ufvo/yr+b/4qAmL9/v4n/6z9Yf9OAVkAagGV/7L9lQCV/lP9RwIG/4X+WAA/+8j9Df4v/lMBKf5M/9kA9/4LAFH+Rf24/XH/GQFjAuX9B/q6/vP7HP0BADkAQQAHAEn+gP6bAgn/pv5r/kH+3QDp+4j9lwE1/+T/B/1c+1D8b/6SACAAPAGfAUIE0P8cAWEDaAJZAlb/CAKBAWgA+wA4AckBJAFuA9oDDQHDAs8BqgMhAZf9lwGhBY4F2wLtAGj/iwOJAjoBKQPcBdkELgE8/17/GgC9++/72/yD+xj8g/y3/B/+m/3P9hj2gPu/+wj/xwEGBXEBhQLtAA//GwYNBsgIwAXGAuwCegi6AtYDxwZcChIM/QWKB4oLoQbEBuIEpwj1BbcGXgfrA68GLQS5BA0E/gOlA/sBFwGWAFIC+//RANgB4v9a/9786vc2+yf6Bfr8+wj5DfsS+0j9ZP7w/pH8O/4iAmoClwFGA4n+m/QU9F/8IgCSAc7+Fv7Y/0b4i/2+/xkAwQAWAKoBBgNi/wIBVwAYA77/hwD5/8z6pf8h+ub7NgEFAn0Al/xn+kb6bvxI+yP8KPtD+gL5FP70+w326PaQ92n5Vfs9/pP8u/qq/eH4N/yM+l382v4y/WP99/1D/xkC4ACs/OoBPv93+iD/9PmS/XgE7AAaAAz9Z/aA9/f8+/yXAVEFw/2f+8z90fnE/+X51PxlAZf6DQAE+dr5SP9pANEAVAFrBQ8B3ANzBW8HnwlLAhQF+gPiBMMEAgTqAxUIyQYuB5UEswTjBM4HxwhRCmcOygYoCycIUwf7BBAAbwJYAnAA4f4CBOj7GAA8A336Qf2M/q35Hf9g/an00gBQ/T71F/kX83n4q/nl+H8AUQN3/U/+D/6y/cMEMAEFAt0DyAFhBZwDNgCrAkIFXAEpAuMDoAGFB9YBMwISCswCtAiSBv4CBAWNBbQHtQePBCECwwPzBAgB8P1A/WEAewAK/Yb6gfrA+Gv6+fo3+I76+fhi9+D7lOXH+F777PrK9wz8IPk4/c7+VP86/tP+NgCU/w3/1/83AXD+r/4R/acA8AIBAbsAVAU/BbkDKgTQA6kCGwGPBmMHjQhTBhsJDwMnAboCggEMAKwFagP0BcsGlQMACOwENQRWA2YByP1TAQ8Dxf5WAAf+5AWBAZn7lAZ7BDcDJQm0ARgH9QdPBOYAMwjBA7kCCwNcA7gCKP/u/uP/ewfuB4oIxwYXBegDgADtAJcESwOeAWIB6/l6//0EAQGtAMH6Pv8UAtcAYP5A/WwB2v2S/7j9ov1cATn93v5CAigEkwSR/on+MAHA/Sb+O/+L/gIBYAGt/5gBsAKCABv//P1+AooDov9OAukAjPxa/4v8Tf2sAXYBmQFk/s391P28+2r64QCIAhcCbwL9/ToAXgO2/xgBHQMHAyoIRARUBfkFSAmwB2wHSQfVCCkEqgg+CVoFJAkfBvcCBQRoBTsJHwSRBXMCCwNQAq7/lwLf/RsAS/1E/ZD8BvPq/iX7u/sQ9yD1ZfP58eP1ke4k9wbyrvp39yb1c/cu+d/2RfZx+uT6uf2l/lT8tP4R+I39jgB2A98CLAX/Av78X/5+AM0A8wK9A03+Dv7J/KQA/QBK/Gj+QP3e+wD63P3E+nj9NP1b/lH+JPlL+xL+gwFCAxsHVQEp+KD3Cf/B+cL4NP9P+wv5M/0V/cX8+v+/+zn/ewBY/G/7rvxHAfsGOAFl/+0BDAE+AqcBr/+EAFsDGgLJBmQDO/7yAUcBuABAAskEHgK9ANj8TP6D+6b54f2/+xL6MP+F+t79LP2L+sT/Jf9U+rn5ifxG/Df7hPxE/Ln5VfbQ+rT5aPqN/Yj+F/yu/oH+S/zD/XX8OfnmAF785v0P/2T+eAR5+xL9j//q/Kv/MAKvAk4BJgQu/ykEZgQi/4cI4wEE/1kCJgfnAyECWgD4AbYDHQNnB8kDKQJPBfoCTwOFB7EBJAIEBhsFmgXgAmkARAGKANj9kAELBNn/aAOnATgCLwcy/+sDFgRQA30CavvK/WP9kf2r+B/9Gv6b/tH+oPrS+9r5lPxl/z36nvp1/XP9tv/2/bz8vv3i/fD9Qf70/6H+nwAPAGX/Yf4z/JH+d/5e/nYBjgIKBfcFKgOeAtMCAwAgCRAK1AVuDFoHrwIQAYEEQggkCTsNuwQPCO4Kogx3CN4H8gcdBNQHFwehAe4CpwPfBLkHSQSnBokEswMvAlr/+QK79xT7x/st/Lv5Vvma+87+cwD3/QAAaQEyAkkBSAQDAkD+3f8FAKsAmQS9AKr91QJj/fwAowQtAHgC/gKbAP0CjgNI/gAAb/1k/QUAsP91AnkCZ/9rAd4D0/sT/mkARgAxAVf/UQIfBNAF1wNSAhkA4ANO//3+KQGn/RUBVf7t/MH9C/+X/k//Rv46+0r9gPxK+o/7P/t6+nL+CP2K+x/7qPcW+t35xviU/E76evoW/qH6K/yB/YD4ovxrABT8avxb+078jv8f+3r4oPq49/34vPiB/VH+a/8J+8j9Y/4b+eX8xvha+Sz7Q/tz+rT7a/w2/eb9Zvtx+8P+nv6SAZL/LfiU/sL9z/y2/Cf6H/sl+u33i/oh+Ez0x/ff99D2Kvzu9mz4qP3V9T31ZfWu8z384fZW+Gj7j/hi+w/8Hv7F/Zr8wfo6AEoAOgBNAcwA7gFQAawDJwWKBfEHPA1mCkUIlQapBTgIBwq7BasJXgqxBjELYgpWCt4GWARQB00DsgTHAg4AmABu/7UBxQDr//X9uAHwA8wBhgAAAAAANgBmAEMD0v0L/GcECf5B/uj5APl4+jT6KPca+HoBBAKd/9H+qP+OAG4A9/0kBEAGkQKkAu3+CwDKAaMD9gDtB4sHwwdiCmAFygR2Cg4HSwckBmIG6ghXBrgCQQMQ/20AW//k/pMC8P00AG0B4gIg/tr/0v9H/QYESP/G+7H9kPv5AC//VfwI/cX7CgCMAPYEnwgwCjgDYwSWAZIBJgO/AbsGjwPo/2cCfQQJAwsFVwHp/2wBgQJD/9//3f1L/gQDdv7v/bL+Y/4Z/eT+OP9IADP/vf4kAoT/Pf88A0z+h/8H/m78FwCS/4z/dv8B/j761/ya/d792QCb/+cBKQQl/pj8V/5+AmQD0P3E/dj+KgB/++z8EPy+/+YDHv6j9xL73/sJ/5P91vpx/wn/+/z5ATYA8ADGAFUA8f4u/UH9Efp394b9cv/a/QP9dP3v+2j+hP/z/TsBWQAh/7AAVPw3/Av+pvyRAJQCnQB4BYYGmAHoBjwHuQW8CEECUAPiAlkB0QWeBMwCEwQ3A38AOgBV/Lf+jQJL/t8BbwPiAfYAvP96AC4CE//w/W//pv0vADYB1v+2/pkCGgJ9A/0CEQTdA9oFiAQyAxUExgRPB4YHtAX7A84D9QQeBfMGBQp3CVEIwwalAiADrwEsACoBnQPC/2b/4v7m/fb9Rf30/cr7HvsCAbb7Jfmn/Zv6o/0j/Pb6tvl5+n75tfrz/Gz5c/4e+zr8FwAJ+43/yQHV/Oz67f6Z/rD+9vro++n9pvzP/Cv/nvuG/EX+lvwm/nz8Jv6zAJz8eP/6/0b9wvze+Qn6z/6C+cD7pQPzA77/HQanBEQEugeSANgB9wBXAR8CrwBGAf3/7/5uAzsHBAMqBuT/4f0BAOj7CQKZBAwETwhpAygBOQQRBx0CPf9mATAAMwGP/qr+KgDH+BP/bADh/VcBPwHW/zgAdQD6/sQCBP+4+IX8kfu1/PX8zvk2/UH+j/9lAWP/MAC/BJ4ADv+2Akz7jv0h/LL7TP5M/ugBRf9fAIEB3wEk/08AVQE9/IcDLgPo/iYBBQCB+zz5F/eq/n//bPo/+eX5qPnG+W8ABQFsA7AAfACW/Tz2B/x+/Nj9sAImAOr8IgC//uT9DQBKAPAAqP4w/U8C9gBHAAoAugErAcABtwD//0AD9AAOAoQBNQGjAnEEUgBOA4oFrQZABuEDWQPpA4YBbADXBIoA0AaOBjoGAgeBBBgF1QczCiwHIgifA9UAOQEy/sP9xgT5/ygAZgK6/3X+aAC2AS8FNAt8A4v/wgPaCKgEoP9fAtgH5AUMCK4B2wG3A3oF8QXLCQsFmgbjB6gFoAYvB/AM1ghcBQEE9AE6ALkB6QPWA/QBTwAOARUAEgCHAE/+ywDe/j//V/6Z/Lf6dvzW/3D6CACa+zb5r/vp+oz88wBW/dL6eP6u/A/8e/v6/Uf/x/0a+eb7t/to/mcAfAF/A2EAVwI/AGz+oP+S/43/PwAeBW0Dqv24/sz+v/5NAW8B7gHNBrMEHAQZ/n8AjAAe+fn9rAEjBZgIBwfmBdoEwf4YAyUDFAHvBOoCbABvAGT9x/6w/3H9GQPjAPcAdwHq/o0DJfyr9fz38P4vAG/+q/4u/Aj/Gvnv++X+/v4kABv+q/5S/hH83v6G+tb7WPzb+S/9FP1E/tv+Ff+CAW//1f7E+hkAkP0T/hkAHP1/Af799QBkBtX/mAGjBDoAqQSlAqMD2QQrAqoAEQEaACgBJwP3/SH+lvyW/TgBx/3I+vv7yPoQ/EP9lfj7+5780/r0+W32y/TJ+Jf2z/Wp9zr6Rv2F+yP7Jfmy9mr4C/wq/uj+rf4P/Hr7YPla+UH/tf0D/lUCPgDRAIb+V/+3AMP+Av+BAGwDKAAGAPAAAQM1A3X9G/5oAf4BEf9D/UP9lP3u/wIDkf+G/kUA2/mY+q8B9QAhAHgAeP5N/Qj+N/+3/RYAIgFm/ir/+wGjBST///5fA4H9zP/KAAwCEwAJ/3ABKAIGAeT/fANABksB2wLLA5IFGgWUAGEF4QSnAGoA8vz0/rcCTwOzAmwAhQBNAOv+6P07AXcBbP8PAB79Qf6L/1D/9wCd/iH/yACw/i79PP8W/+79G/x4/QQAAAC1/kkDHQDx+6r/0/+S/kUAh/6M/yEECv1B/+/9+P3IAqP+9QDa/i/+ef6U+V37RgCLAUMBqf/N+wz58/sb/Qn5o/zX/Mr+cfvf/ioBnv2b/Tz/k//q/yQAlv+X/V8DBQOrALUCPP9PBAUFrAWdCRsGMQd+BTsD+gT2AXYCGQUTAN4CfARZAosDWQG6/sQC5QMHA+j/TP9m/sn8JP12/bf7L/62Aan/Xv+v+zn79Pw+/EYCZv3r/fcAsvZn91/4E/sc/jn+Jv/y/kv//fhj/fYCJgPoABEAqAJxA8r9v/lAAJwEswQb/jgBWgLaBScENwGDA6cDXASaAnYBRPvr/0ECugNPA4z6uPoR/t779P1gAPP+TgIkAFr9ZPyR/VoAQPzi+4n9vPww91/7SvxL/Kz+pv0O/ncBPAHwACUAegE7//3+LQAbBaICLwAfASr/MQTQAvUCgf93/S3/gABb/tYAdQD9/Xj/r/4G/s/8AgBQ/TcCqAAv/QMBWfqC/tABKwCmAH8A/AL6AdEDUgMY/nD/6QB+AuMANAAzAvsAZvwi+WL80fwF/pMAjv8pAa3+s/1w+/H8lgAz/V/7f/1R/r397/53+xkA/v/x++n9E/p/+6L9Qv7s/M7+qgJa/av/SgLpAc8COgBrAK79E/57/63+EQHS/k7/T/qi+jEAuv+J/ar7vQCB/a/80f+N/A76hP7K+r3+Lf33/Df9s/uF/mf/D/wN/fr82v9OAWT/kv3oAG8BoQNwAqT+OAGKARgDkAOvAxMDqwS2AVUDNQOBAj8DrgsWBPsHZwbBBocF8AOaCV8F7wTZCB0GSwV6AOwCdAJLCdwIYQlwDnYJggOSAS4EHwb+AWQBuP+o/yIBF/+9/Rn8nwDG+o/+7f8m/K4BRP/VAOID2fxe+vL9t/3mAEgAr/2A/z3+6Pzc+An5uPtn+iP7yPt9/dEAHv6Z/8/7J/1f/sD9Sv+P/kIDov8E/zECIgHo/6QCS//A/jz/i/6rAVoBpP2k/+cCaPzm/uH6E/rg/un9Bvzi+1/+gf9MAs79agBTA3j/awKPAYwBpgWw/7H/pQDV/fH/EQSMAV0D0wT8ASIFTgABAnoE9fwdAZECBgHIAqgC+v/lAMsAiQRQCEwHOgiHCJYCXAI4BIkDAAoXAoP+bQLR/cz7Pv+2+5T/rfp6+JP/fflh+Yr+bvwW+Kj/9Ptg/qsAvfm6AML/bP8DAuf9c/9RABP/Kf1H/Zv8UgEpBVL+bgAoAjcBvwKXACf9xAGRA4b/sgKCAV8BGATj/6//TwDbABYDuQCX/6wD+AHS/3UAC/0AAWMFqgOsAWEBGAAiAXcCFgIIAm0EhgGoA6gBIQY/B3sDHAd5BiMFYwY9BXYDwQPV/pgC5gMMAWYE3wMPAxIGyAX0A3IG6wNvA+0EnQD9A9YCswEpBgkEVgKRBhYEiwfwCu4A5QEeAOz8+QMxAKwAKAQuA7sFb/0l/NT+U/7jAz0C/f58/3z/OQC9AEz/Mf45/3EBG/pnAK4CkwP1AvMAnQWuAlkGhAJRA34B6gHEBXcCJgI6Aa0EggeaBVD/sAF4ABL/OQFYAKr88/3n/tT/DQQPAl8Bi/4Z+Tv61veH9mf70fiW+rL49vdj+yL8Tvo2/AD7GPnq+0r50Pj+9zT2XfrX/Mj3XPw1/KH15v2V+oX+0wJp/lMBJQGX/VMB5QRyAcsBBQGWANIAt/1d/msA+v6WAu7/cwDeANv96v4yAuP7s/uzBeT/5QgNBNn/WQEIANgA/wLk/zz+sf9u/7f/nwHVAd0FeAndAD0B8f95/MT/oQLtATUCFgGOBUgGXgLzCpsKqwUmBksApvuaAFsBKwIkBEUAZgJSBCYCOwKD/xwBDv5G/Ez+o/3S+p/9ZQCqAQIDOwHI/3sA1QMR//H/af5zAbMCef5uAmIB2gE7Aj4B5/4KAQQC4wIFBAwAZADZANz+kQOFA+oBhQMy/xkC3wGg/kAAS/6t+5EAMwDl/a3/nfsm/AoApfwh+ib+K/nu+pj+ufqF/I37EvmS+5T3HPqT/S390v03/In6/P2g/pr7qQBs/dT77v30+9L99fy9+zX+0/z3/McAGv1y/Kv+T/vE/aD7k/l/+0D/xfrd+p7/Av3A/tz9ifog/oX8yf4e/dP2g/xo+V34g/ym/Cb2NfWI9VP4tPp9/Kr9BQKUA0YDVgE4/kEAngA9/rMBSQN9ANsBlAGRBGYD3wO2BW4JmwI+A6kCXPxGBGgACAOkAtcAhgMSADcBywOkAJkC6v89/r8ApAFfAMwA9gP6AAQBbQR6/vP/HgFHAccCHf4X/hf+uP62/gUAkgIeARoE4v8j/T3/hPyl/8D/iP/FBfn93AFsA/v/jQNs/7QAIgFZ/nD/nv55/Z3+LwAp/fX+4gF9/3X7pvih+wL/D/3T/0P90fyi/338aP/Y/en8yP81/a/7Rf36AGkApv33AdL/gwH/BnACCwg0CSsG9wZ1BGYFDAcPBRQHqgy/CCEG2wloCLkIwwePCEcGpAIUAksGnQRLBmgH5AVtBOgD2AFrAeb9mP3B/qb9m/pu/Z/74vsy/OX6/vrj+9H7bfuh+eD5E/vR++L9pgCO/tD+dfqy+u7/1vtF/8r+0vuyAOT/Hf0pAUcDSAJeBysD1P9YA1P/0QBVAk4AVQP1Afn/3gJNAgUC6gXwBHICEgVfAsf+AAFPAIgCHQDv/eT+D/+aAan+y/ry/5L9ff2q/A/8Wv5z/5P/7ABPAPr9Gf4+//D9NfzO/BX+1ABz/f8A5QGt/uH/iv+L/ej7Yf2e/OH83vzK++j9Qf7O/M771/mD/Lz7evu3/+X6UPta/nD6cPry/sL8dPpG+rn5G/u8++P6dvva/9D8svvA/Qn7g/yG+Z35WP2+++D+If7X/K37BP7j/wEB9v/P/UH/i/vv/cL82fu3/tj+Cf7X/jD+jAAQAQf7nf+JAPP7CP0v/+ABwgFBASH/Rf76+5H8igDa/X//Df9d/nv/7Pzh/P//uv+qAeEBB/wm/Qb+Zv2y/QH8iPsz/sAAx/+O//j8qwANAO76Hf5T+3D+JP/m/NwECQJ7+ij93PuZ/28DEwG3/3IC1v8uAdECu/7//Qz+Pv60/jkA6/uc+7r82v88AvgBTgDI/QYADAPYAvwBVQI2ApQFEgSFAnsCYQQABr4CdQVeBmQD/gVnBWQCVQeABcUF9QVlCPgBOgQVBeIFFgN4AkMGJgSBARcErAdFBlQFzAIh/08DrwNSAAL/r//Z//X9cP4k/7z8NQL7//P9jAE0/wIAnf0JA1kAQv+c/0/8Vf//ARwENQFQ/+4EeQjMAlQBpwAnBjwDoQe5Cz4GfAOcA0UFDgR9BJEBrgNnBBcEsgPDAYwEUwVnAR8DWwDCAlMBwv4YBBQEpwSvAwkDcwSVBDUCmP8dA9sAXwBaABH+YgDtAVgBagHTADAAD/1w/IEDVP/1BV0Cs/xkAo/8O/9N/9cA8gGJA2P/HAPpB4v+a/7F/xoAlQAr/q0DEAbCAEMAMf7e/hf/CPyc+ff+Y/6y9k0CQwPUAD8D6Pkp+cv7PvnB+RT9BfwZ+/X8iPwn/GD+jPwd/ccB5f9d/zn83/1s/in+/QBlACsBKAIHAsAAHwG5AGT/bwDB/a77Qv66/uP/6fzY/GsCugCa/cL75v8r/n77iP5h/nP+bfyy/dX93vrJ+jz8CvlD+0P7efrN/PL6yvmQ+nD7+fv2/Bf7FP/X/uv9YgGf/gAAEgCi/tQAIv8QAusEcgKVBEIDFQQgBRkG8wRjBxkI5wRnCZ4FTAVJBiMD+wIUASEA7ADWAIkFQQTCADUBRABIAxAABQErAcwCbAKF/jr/sv0LAzMBlPxe+1X8jf4Q/aD91v0t/jkAgwAL/SL7kfxv+9f+hwNz/Tz/hf+2/CICO//2/Yj/If2C/bYArf1X/Cr/Bv6B/OL8QgIE/rr6+Pm/95L4Kf2t/Xz1oPpj/Hn3l/Zg9kH0cPD596/0r/fk+6L29vv//dMDAPoa+ioAovvw/p/y3fmhAcz35QSb/or5pwYwAl4BjP8z/0v9IAaS/Cv1Gf/B/IwDlgHcAE0Ctv80AWQF6APyCE0AWgGiCI4DcgbSANMJDwNlB1oKMQ51EHQHlQc6A2cGtAR5CW8KCAk9CEYRyAp5BiEDBQPNBTQGygnEBCEMUw9JC1UJEQb4AzUAwQAiAM38yQNhAi7+2Pzl+ob9jADcBMwEYf/i/kX+/f22/kn7qfxg+sf+UfpZ/94B5/9QAGn/rwIAAW//HAAe/JgBywGP/pMBgQLqBgsFcQIFAgcFbQJGBFEDpQ9iCJAKHg7iDkAITQPmAVADsAR3/sIE5wZFAwgJZgdPBBAIcAJRBJUBOgCYAUkAwP0uA5v/8wWtCu8DDAWeCJ4DawLr/9H8EQHj/+//cwAbALD/k//kAHMA/gAAAEkC2AKhBQAHkQaCBlMIpQkOAmAIVgacBswLUwYwCZ0GFQhYCKADmwLTCyYK7gUbBAgDSAqoB+MDLgLmBPUDMwUcApsA1QAJAAAALAFWAEsKkAtfBYEKiwV1BokIFwAKAPACiwOzA9cC3QDl/mABjf+ZAdP/dABEBI8Alf86/scBowT/Ap8AW/7pAHcAcP6cAPj+0AAf/8f+hwBU+TL5Yvf1+xD+mv3D/Pj3RfyV9sf6nPgG/HX7Sf7d+eX7P/Fo/Gf8SPw79O71S+y68Fb2dvf7+mz88Pa4+W3x3/bT/YH/rv6x9yr6dfj9++b9+vVI+S78Q/vA+fL4hf3r9MH7RPsR+aX/qfow/k/7AvaC9k/41Pcj+EH47Pjs+Ar41vhx+9f3Q/ut/uj90f1j/bP82f77/Xn5IviT+Kf7gQBc/6j9iwAAAR3/Mf5T/nX/5v4u/kz/dwCUAUn+uPzp+z/7TAFDAVv+M/1jAv8EnQgrA3L5BQV3/wv/0gSbACkB2v+b/gAAH/9B/rr/OwBK+0L/df+L+sH/Zv0OAVwDowBpAzECqgQVCGgGRAaBBFoDngJKBs4FXwQlBOj+ogBfA7QAcQMoAssBoQLW/m0BJQEO/4cBhAKwAZwCTwOTAfACrAD7/V4CngFbAB0B6P55AvQAaf0BBQkBSfk3AREAe/54AK/9Rf9d/xX/9AAvAQEAl/+iBPwDKwSPAcP/JAM8A6oA1gFy/gcBiwL8+wX+CvwCAvADyPmS/cz+XP2z/Db61PiH9Ef5Bfjk/pv/evxA/x74rPmJ+pIDBACv/z4DqAHV/un+0QOXAFUG8/7E/nv97P/L/97/Hwl6CNkHkQQJA5MD0wOpA/UBQwPACRcDJgOIAmEH0QKgANED1QEKBaYEHQOa/s78/AG/AHoE9wHkAqEI+/5bARAApP7C/yD+0QGDAusGHgPCAjYFZQUoAPAA7QHMAVD/4P7O/ioAEgLe/Zz+zgBU/Q79Jf4Q/5T+zfuM/gH9T/5ZAAn/rPwr/lP++f1Q/D79ff16+4j3ZfTr/i8Bwf0/+5j3YPbl+MT7zfbw+pb8s/5V/0D8Qfo/+ob8vPuM+qj+JwBI/54CxwOABD8FngIAAcIABv34/hsGnAE8Atr+lP91/8P5+f5sABkBlP7J/Zb/jAGBAsX8Yfyf/Cn6Sf32/V//UQBi/JT56fk5/jj/aP0p/rT8fAHPABr67//gAcwBHQAvAZ0C2gStAgwADQBHAAgCwgKqAtADwwKUBmsIcAcECOcFjQf9B5AGXwV8BUMC7gH+A+wCEwL3AOD/lQDS/2n/VwGXAO3+5v8WAF4CKgOxABMDaQFZAJMCMf9O/5UADPyc+7T9avmt+2P8ovoV+Yr61/ky/OH5ePe9/NP4efdG+4v/Af7Y/kn7nPse/G392v0k/N8ABQA6BDMFSQFKAMwBbP7f/i0DIQKx/Zn7tfuU+kP6l/zf+pL8Y/1X/qf/oP4WAQYAIf7E/oD/Kv4WAq79jPy2AEb8hv0D/R76lPpS+qX8vf2y/2gAggBV/Uv+IQInAZEDsf8iAH4DEQJmAZoBagGOAjIDUwGFAoMEEwX+AgsAuQBBAwABiQIhAd//CQNyBFIDOgK3A3gECwP0ANcAEQImBSsJewaBB6gL+AcWCJIEHQMNBUQCSAEYAIX/1f8nAH4AVP6YAUMEWAPX/jf+vf6Q/L344vWG/Wr/w/+4/loCrP1L/wIB0v2k/f7/pgLv+WP7KvxgAJL+xv6CAFv/Rv7N/fz6jP8F/17+WgRpBNoBbwCGAZkBjQInAx8ERv94/3//7f75AhQEjwRNAxQHEQKjBp8FpQIFB4AGjQUhBVUEdgSLBEgEeAPIAhwItQbKA9kBFwGn/y//EQNrAN4Ar/8//N/9+v1p/OD61fwr+3P9w/2V/TH9fPw0/vr/DP6C/qr9CwLiACEBTwYXAP4BagI0BLsCxf17BEIJmAZYC7AFMQtLDoAGUQq4BRoELwY8COEIQxGID1oK9gdK/e8DjADh/MD9Iv/6//0AWwCO+osBjwDm/jT/MADUAi79Ff+l/qD7cf2Q+cP4c/0U/CH6bPWf+nj3dvi89uL2/Pcf/F/7Qvno+Vj4ZPit+XD1Dvek91n4+vc3+Lb4/Pjp/CMAgv1z++D+df8h/a/+7/jK+rT9mv6Q/ur96P/1APYA//85AiMBNADYAbkCzACdByEIlQhTCPUD5QWdA7YC4v/X/9H+RwK+BaMB2wbYBUsCwQNhAegBXf6P/G//UPxu/1b9M/6t/jcAVv2n/mMCJ/vcAJf65vbd/H/11PVo9gn3I/rd/Pv9PPqs+ev4ifwYASP+T//qAkcECwVaBB4CbwNHB0cMQw3fC2kNRgqtAW4DrAEkB1ERKQwPEroKQwMAAAACuwGsBCkH9wIiBTMAy/tu/Sv92P2A/QL7L/sl/Bv9IPuV/g39Tv1w/1j71fz4+MT67P3W+5T8svxC/Kv+SP2w/EEBSf9SAWsATv6w/X4A0v5o/+QAgv+o/zkDFAS5AXsB3f8FAQz+i/zn//n+jv/6AA4CDAOAAzEFMgZZBJcBIAMOAwX8/P7s/Yb80v28+gAFLAR3/Or9ffva/tYB0f2s/jsB9P5t/AD/Vf93AzMHQQDV/8X/YQNBBHsDigBs/0UF4wKnBSMDKwPpAhH/NQaI+g38sQAj/oP/Xf5HAFT+Rf0JAqoBKgCl/R395fvw94b5G/UP/97/XfjH/EX/ywLUBRMGiACUA7r/8/zlBEgE8gG4BC4DzQSmBWEDwgWYAkED6QTFBaYE8QUHAkn+fgHr/BcD1wT9/jj/Af7N/V/8ov51+6H9mgDH+y7+T/7DAFsAo/1AAT7/fgAEAbv9EwBz/r39JwJkAaMCvAHnAEIBqQM3AoEGvgTsAjcFtQSYB88GZQdXBeAGtwb2ApoDJgSgApUBNAJqA3IAcQIdA1ABXgRXBCcCIwLpAgP/TgPG//f9wP+g+wD+CP+//JD+Y/9u+637EP2K/Wb8wPpy+KH2C/UD9r/4+vZE+zf9E/vm++D1GPtp/Aj4SgDh//AAMgLUAZMBnfwS/c3+NgHA+zn8SACq/h4Dx/5U/6EEcAA3ApsCDgHhA3gAIPlz9nP22vPT+KT2PfcJAS0AKP9j/Uv9eP+8/UIAqQMLAvMARQQs+6r0bfyZ+gQDfAi1ApoC8gYLA4n/UAMHA5cEqAJlCroE5v+hB+QGDgTgDVkCswGVDqwLvwzzCeMJKhKoB4QGVQzbD6QGuQ96BKcNaQS/AnUGcwwXEKESog4yBvIEnQbcA6ED9gdKDk4JFwWyAqf/5/tT/Wj9A/zx/ob9BvwrATAB+/8OAT3/sQCkAD/9yP86ARH/lgARAen+vQLfAX4BlgEs/LAASwF8/oEBT//V/vYAm/6h/L/9n/pB+u3znO+f8g34ZfWp9NDuGfFS+Oz17v3//Ar5yPj59xD2NPlx+MX7rftX8zfpU+zO71Xpjvtv/Lr/jf52AJD9L/yg/sn7B/zc90f8rvF589roucny5UbpuO8d+SoBXfgX/IL/vPpt/QD7WPzJ9vP7mvtY/Pr8LP/8AWsKkQuFCVEGlgFkAR4CYAdjBKQDAQ51Cm4HFwXbAYEHGQemBakEqQEFAJ796v1jAWsCXgKKAbkCZQDx/p8ALATyBQEBXwKSAfb++gI2AnwB/QWBBXP/v/6H/+ACNgMv/lH+tv+lAM/+/v2K/QgA4v0l/Sr/AP5l/XT/z/7f/nr/Kv/o/q38d/t/+/n9h/y5/Xv9wv/i/377K/3Q/UX8Nv6MAkj+oP6g/yj+MQEu/5X9+f9g+1n+Gf8X+cL7Wfxw+7n8j/pF/bj/fvwf/z//3fwH/33+n/2Q/iz/TwIuA4AA+QHfAa0BUwWlBeYAHAX/Ann9agSJAXMEYwh3BygEnwMuAcEGBQzVBIUJWASrBPQHXAM3Aw8GrAILBVcEwwFnBZ8FNQXSA+MFUQnYB5oFNgSFAtgCSwPVB6sGMgmZBlAHLQVYAo8PnQkvBMAFbAL/A5IBh/86/3EBOwF3AOcAjAGHAVMJZRCRDC8M0AegBnUGCgY9ArQBtALL/Tv/EQCE/6T/zAK5BFcEkgJxAq4CuAMZB/b+Ef4JBK35pveYABn9cfez+wv7wfm5/rj9aP7w/Zj+j/6mADYB1fze//v/yv8j/uv9Z/9p/j8AGACP/2wCSwFpAiEC6QAhAk7/fAH2/OX9uP3j+fH67fpP/ur3J/5MASH/Cv2d/GX5ePyw++T6kv5n/7j80Pup+3L69v4cAVsAi/8M/8cA8wImAbwJ8gbtCeUHjgQTCqkFzwAuAfD9kPwX/wMCQwJW/0v9b/4AAPkF7QKVAi/+ywBxAHj+tf6H9fX7mPrY+j3/U/7M9oH8Of6p7f/srvZx+pn98AHeAD//z/78+nr4sf2g/oL1EPw3AJz+df6a+UP7rAAa/Mb6ffu6/pX/n/u0/LH7Q/Xd+q7/4/ru/Z4AJ/2++2z68/3o/h4AiQAr/mr+g/69+tz8LvuD+F/5QPqn92T5CP7I+9v6Pv1b/97/lv17/Zn8tfzH/+f8x/7ZBIMBDAFJBAAAAf9eAkEBQAJcAwcEwwZXAU7/awMjA0oFlgPj//7+zgCVASsBGQBY/T/9fPnG+TwAKQGjAhcEkQG5AJf+KP8y/q3+G//b/rn9r/2b/5sAlgTKA1gDmAUe/rr/dgQRBIwD0QFFBFMC/gJWAhH9ngFCARgAcf+I/WL+Lf9nAof+Y/0BAjIAEwFGAqwAYQJvAWAFZgAIASsElgGhAloBIwQ/AqoBvgLm/hwEXgM0AYoCngQ2Bp4GugIbATgFsASiB78CeQO6BNwCmAXeBLYFRQc7BZkJPAq/ChwHJwJnApwEfwtpCR0JywoPEPAGzQ98ED0V4RTyBOsLNAS1AlD+sfqUDLIQ7QIsBOMA0v3p+vP/Pf1y+Zr9r/ur/V/8BPvq+5z9sv0aAHgC2AKK/6z+p/1n/tf8jfs6/Fv9R/zG/tYA+AC4APL9k/3M/G39v/0l/eD9Vf9P/j394/oP+cb8b/2p+rv6H/5o/zz9lP3++vD75QDk/Lr8wfoo+yb9Mfyc+5P+wv41/x0AGfx0/YT+K/3K/1QBhv+NAYwAGv7g+6L9af9nAZ4CRAGRBAkBXgPw//b9qv1y/i//DfyC+wL4Qfz//mP/uP/i/AUAN/9//4L9Uv+BAtsAlP4v/AP7evur/iz+HP4TAfn8kvps+7D9Tv1V/0kAvgBiAEQAHQGy+k78MwDT/CwEzgfH9CAHtwXSBeQC1AK6B6MIhwGK/sEDVgJMA8EEKQGU/nL+rv+V/SL+YQBDAbUAJP/EAk0BdgBSAlf9L/8bABH/Pf8t/aT9OP+R/nn8k/vx+oL9CPoa+u38VPpgAgn/s/kd+0AABP7k97b9Ffm1/939HP4MBPEAM/ro8pH49QC2/Pf6NfcN9jzzDPMt9nzzDvqe+QD44vc09273IPdb+/z+PwAH/VcDkAJP/m/+DAC6AnD/sf/jBM8G7gEb/B/+tgaZB7sHXwO7AJT/Z/2Q/V3+7Pw7/KL+zPvN/Pn8Q/nG/LD8af6D/jn9FwEx/7z+F/5z+xv4HvnX/O36XPsB/K/7Bvuw+Sf+Xv5v+m7+jf2zAOL96vxr/Yn9LgAj+zr9vv8dAdb/sgBUAXIDIQSsAcYDXwLzABgB/P+dAdL+KQFcAqz/Sv9g/hQAzv4R/nD/ngEjBev/v//f/+T+YQAy/hkCFPvf/JUDN/z496P7YfxA95D3yfb39Xr3c/O79gP7O/3n/Mb5D/0A+4T7kP5U/Dr+JgA9ANT8YfsdACkCzQD9AjMDcf8R/6b8bPz+AnoAGwG/AMz/vfyp/30GmvuE/g776/46/w79QgAo/V8ANf4i+tf/lAHp/6b9uf5A/zQBngELAGYApQJmAkIBYwF6AUsFYv81AL8ATwBUBigFVwYDAr4D8wRGAxcHhAMLC2AH5gDIAPQGhQcWBT4MPAgGBgoJQgcxCRYJUQYrBrgKJwwrCK4I/wmxBnMFaQa2B0gJcwbSCFMHNwbRBc0B6gLFAHT+pACL/8MBof/j+x0Aqv/RAH8CNP+9/mQFWQHUAh8BDP22AB4BoP8HAX0B/vwW/zT69v3mAk8A2AZVAib/zwHTADH+D/2WAo8BUv6wAPgAuQBlAXICxgFfAQYBlf7d/bwCTwIVATMBGQMLA4IDagKv/r0CwACGAFwDuAKYBDMBQQGuA08CTwA8AF/9WgLeAsX+2gQaAVf/Mf12+mn8g/7g+d377vxw/en7f/oI/fsB4wD0ALQBtvkU+kP8f/jk9fL6HvyG+5f8RftlAB73KvOU/+H/9AVpAlf/5/2EAcT75ffu/G/6mvxKAW4C4wMkBVYDCwP3/3oCygDr/ez/uPxqABD+kvwt+wX8wfun9KD6Xvo0+6L96//U/sf/UwIj/4X9p/xwAFb/BP4K/4f+dwHS/aX9cv9t/ZD8yPmMACEEPgGXAG0BxQWqATYFvQNL/YcCTAKeAg4A3AFgAcb/YQGBAd8EjQMfA94C4AB7AskAK//OA88AVQIeArb+wf84/vf/kP/b+QL6OP6uAtEDTALuAWoC9QHL/O//VQO7A2UHygQKAcsAb//i/gUBQADBApwBi/96BTQDIAO7AqgAGwL//kT+nP0VARkAyAD3Akj/kwBL++//LABX+2D/eP3EAYb9vPyPBcT/sv4Z+9n6FQMkAqcGAAZFB44G0AI8BbEE1wfnBJr/sP97AkcDDQTTAa0B5gHoAxgCfwITBFkBuP9rAo8F1QUmBK4ExgS+A9MAYf0p/lD/Pv5b/D77Cf6V/Qr7GP36+8P6QvxN+2z8zfsF/tf5H/k//UX5Pf7d/VD/zv20/Nr+RPynAMH5nPs6/zX8DQJdAV8DLwYmBTEDIAfLBgkC0P+rAqgGhggwCRwJRgqoBgcHggVUBEIFRQOHAhICsQUoBO4FrQVUAZQCMQCv/yr/Lf+a/6n88f2QAFj+7P9tBN8A4v4hA2YBnf6M/gz+0/0j/9j+YADvAKz+z/8MAGQD3gbAA/7+vwFv/ur8RP/j+tf9B/9ZAY8DFQbLBd8ArQFzA0kD1wFZBasGFQcnBXACLALSAnQBX/0Q/9v+A/zz/UP+jv0FAeoDAQY4A6oAcwIk/8f+Bf6u/2UATv6t/H/9iAGTAo0EXQHJAXABIP+4/Wr8qP+vAU4AOv61++z+CAH4+7b7zPov/Iz97v4UApoAdv6l/437B/o//GL+DwNqBa4EnAAh/6n9hP/T/7v+7f0n+wgAbQD//VP/TAASAN4AlwANAIwBsANp//r/wgGI/lAAt//5AfcABQD9AHz/1ADJ/kT9Iv6WALT90fzNAOL9Bf2F/K75PfyZ/84AG/9E/FH4QPnH/Vb/Jf7Z+Az9xgBA+yD7efTr7+X12fOE9eDxrPD5+2/3b/lK+X/+JPqQ8WXyzeQc+uj6mPO6A9v7i/QE913q3POF9eTro+zl7/P7o/pq+Cz5JvuiAH38P/9t/O39BP4h8rT0Dfog/Yz2xPa5+3T/Wvsl+QcEBf8j/3r7ffjzBFsGVgPDAT0BaQAOAeD8yvrbA/8FFP/+/NX+ggBW/qsASAfPBAwFDgehAjgBxwRh/Jv9QgLF+i7+nPrG/CwDOPx5/av7Vfs7/+n+Zv5O/n39p/wNAQgAiwGtAgj7gADwADT8jQBy/Ov94gJmAhkBUgAH//r8WP/N+8z+bgDt+pT/kfqh+yv+8vx5AJT+ff00+gv8UfdJ+k//lfsjAFn4LvxnAaj++/3l9cD7JPh59of7ifle+S/8kAIk/tz+BAAP/778Kf/IAzcDxQIxAcb+YgALAXMEqgl4B5cDK/6TATkDwwWVBtMHxQQKCH0GrwPaBwUDAgOeBHcHCQvcCXoH/gZyDGwEQA0TC6cU7BNSB/kDowWIAWD/fQAc+9ADNgIfBIYDAwIf/4sFxAYQB4EENwWnA5UCSwHs/Mb/UgDlAREGowSyBuwEdwmQBbcEFAROCp4F6gYrBNoCrv6t/zb+af/aBHUBoAUXB9cI0AotBcMDIgOfAGb80f+p+g78qfyG+UH4HvywA+f/afxw/Bz/cfyc/Db+BfcK/pcBsfCC8JP66vdq+hH1jP4Q+Lz38vRu8ZP0pPNh96MCVAOG/3wCcgBr/tf8uPyNAg0C4ABmATIBHQNLBZgFOAYGCUgGugotBAcBEQMjAPQBowKgATMYRwMFAeEBVvs7AHYDxv+XBSoK7gEWB8cMSAcwC5oBQACfEGEHVAQiBjEH1wrvAg39XQGzAq//EQIrAMb/0AM3ACMAyQOsAq0AxQURAToCEf9E/mQCW/4AAA==\" type=\"audio/wav\" />\n",
       "                    Your browser does not support the audio element.\n",
       "                </audio>\n",
       "              "
      ],
      "text/plain": [
       "<IPython.lib.display.Audio object>"
      ]
     },
     "execution_count": 7,
     "metadata": {},
     "output_type": "execute_result"
    }
   ],
   "source": [
    "waveform_last, *_ = train_set[-1]\n",
    "ipd.Audio(waveform_last.numpy(), rate=sample_rate)"
   ]
  },
  {
   "cell_type": "markdown",
   "metadata": {
    "tags": []
   },
   "source": [
    "Formatting the Data\n",
    "-------------------\n",
    "\n",
    "This is a good place to apply transformations to the data. For the\n",
    "waveform, we downsample the audio for faster processing without losing\n",
    "too much of the classification power.\n",
    "\n",
    "We don’t need to apply other transformations here. It is common for some\n",
    "datasets though to have to reduce the number of channels (say from\n",
    "stereo to mono) by either taking the mean along the channel dimension,\n",
    "or simply keeping only one of the channels. Since SpeechCommands uses a\n",
    "single channel for audio, this is not needed here.\n",
    "\n",
    "\n"
   ]
  },
  {
   "cell_type": "code",
   "execution_count": 8,
   "metadata": {
    "tags": []
   },
   "outputs": [
    {
     "data": {
      "text/html": [
       "\n",
       "                <audio  controls=\"controls\" >\n",
       "                    <source src=\"data:audio/wav;base64,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\" type=\"audio/wav\" />\n",
       "                    Your browser does not support the audio element.\n",
       "                </audio>\n",
       "              "
      ],
      "text/plain": [
       "<IPython.lib.display.Audio object>"
      ]
     },
     "execution_count": 8,
     "metadata": {},
     "output_type": "execute_result"
    }
   ],
   "source": [
    "new_sample_rate = 12000\n",
    "transform = torchaudio.transforms.Resample(orig_freq=sample_rate, new_freq=new_sample_rate)\n",
    "transformed = transform(waveform)\n",
    "\n",
    "ipd.Audio(transformed.numpy(), rate=new_sample_rate)"
   ]
  },
  {
   "cell_type": "markdown",
   "metadata": {},
   "source": [
    "We are encoding each word using its index in the list of labels.\n",
    "\n",
    "\n"
   ]
  },
  {
   "cell_type": "code",
   "execution_count": 9,
   "metadata": {
    "collapsed": false,
    "jupyter": {
     "outputs_hidden": false
    }
   },
   "outputs": [
    {
     "name": "stdout",
     "output_type": "stream",
     "text": [
      "MM --> tensor(0) --> MM\n"
     ]
    }
   ],
   "source": [
    "def label_to_index(word):\n",
    "    # Return the position of the word in labels\n",
    "    return torch.tensor(labels.index(word))\n",
    "\n",
    "\n",
    "def index_to_label(index):\n",
    "    # Return the word corresponding to the index in labels\n",
    "    # This is the inverse of label_to_index\n",
    "    return labels[index]\n",
    "\n",
    "\n",
    "word_start = \"MM\"\n",
    "index = label_to_index(word_start)\n",
    "word_recovered = index_to_label(index)\n",
    "\n",
    "print(word_start, \"-->\", index, \"-->\", word_recovered)"
   ]
  },
  {
   "cell_type": "markdown",
   "metadata": {},
   "source": [
    "To turn a list of data point made of audio recordings and utterances\n",
    "into two batched tensors for the model, we implement a collate function\n",
    "which is used by the PyTorch DataLoader that allows us to iterate over a\n",
    "dataset by batches. Please see `the\n",
    "documentation <https://pytorch.org/docs/stable/data.html#working-with-collate-fn>`__\n",
    "for more information about working with a collate function.\n",
    "\n",
    "In the collate function, we also apply the resampling, and the text\n",
    "encoding.\n",
    "\n",
    "\n"
   ]
  },
  {
   "cell_type": "code",
   "execution_count": 10,
   "metadata": {
    "collapsed": false,
    "jupyter": {
     "outputs_hidden": false
    }
   },
   "outputs": [],
   "source": [
    "def pad_sequence(batch):\n",
    "    # Make all tensor in a batch the same length by padding with zeros\n",
    "    batch = [item.t() for item in batch]\n",
    "    batch = torch.nn.utils.rnn.pad_sequence(batch, batch_first=True, padding_value=0.)\n",
    "    return batch.permute(0, 2, 1)\n",
    "\n",
    "\n",
    "def collate_fn(batch):\n",
    "\n",
    "    # A data tuple has the form:\n",
    "    # waveform, sample_rate, label, speaker_id, utterance_number\n",
    "\n",
    "    tensors, targets = [], []\n",
    "\n",
    "    # Gather in lists, and encode labels as indices\n",
    "    for waveform, _, label, *_ in batch:\n",
    "        tensors += [waveform]\n",
    "        targets += [label_to_index(label)]\n",
    "\n",
    "    # Group the list of tensors into a batched tensor\n",
    "    tensors = pad_sequence(tensors)\n",
    "    targets = torch.stack(targets)\n",
    "\n",
    "    return tensors, targets\n",
    "\n",
    "\n",
    "batch_size = 256\n",
    "\n",
    "if device == \"cuda\":\n",
    "    num_workers = 1\n",
    "    pin_memory = True\n",
    "else:\n",
    "    num_workers = 0\n",
    "    pin_memory = False\n",
    "\n",
    "train_loader = torch.utils.data.DataLoader(\n",
    "    train_set,\n",
    "    batch_size=batch_size,\n",
    "    shuffle=True,\n",
    "    collate_fn=collate_fn,\n",
    "    num_workers=num_workers,\n",
    "    pin_memory=pin_memory,\n",
    ")\n",
    "test_loader = torch.utils.data.DataLoader(\n",
    "    test_set,\n",
    "    batch_size=batch_size,\n",
    "    shuffle=False,\n",
    "    drop_last=False,\n",
    "    collate_fn=collate_fn,\n",
    "    num_workers=num_workers,\n",
    "    pin_memory=pin_memory,\n",
    ")"
   ]
  },
  {
   "cell_type": "markdown",
   "metadata": {},
   "source": [
    "Define the Network\n",
    "------------------\n",
    "\n",
    "For this tutorial we will use a convolutional neural network to process\n",
    "the raw audio data. Usually more advanced transforms are applied to the\n",
    "audio data, however CNNs can be used to accurately process the raw data.\n",
    "The specific architecture is modeled after the M5 network architecture\n",
    "described in `this paper <https://arxiv.org/pdf/1610.00087.pdf>`__. An\n",
    "important aspect of models processing raw audio data is the receptive\n",
    "field of their first layer’s filters. Our model’s first filter is length\n",
    "80 so when processing audio sampled at 8kHz the receptive field is\n",
    "around 10ms (and at 4kHz, around 20 ms). This size is similar to speech\n",
    "processing applications that often use receptive fields ranging from\n",
    "20ms to 40ms.\n",
    "\n",
    "\n"
   ]
  },
  {
   "cell_type": "code",
   "execution_count": 11,
   "metadata": {
    "collapsed": false,
    "jupyter": {
     "outputs_hidden": false
    }
   },
   "outputs": [
    {
     "name": "stdout",
     "output_type": "stream",
     "text": [
      "M5(\n",
      "  (conv1): Conv1d(1, 32, kernel_size=(80,), stride=(16,))\n",
      "  (bn1): BatchNorm1d(32, eps=1e-05, momentum=0.1, affine=True, track_running_stats=True)\n",
      "  (pool1): MaxPool1d(kernel_size=4, stride=4, padding=0, dilation=1, ceil_mode=False)\n",
      "  (conv2): Conv1d(32, 32, kernel_size=(3,), stride=(1,))\n",
      "  (bn2): BatchNorm1d(32, eps=1e-05, momentum=0.1, affine=True, track_running_stats=True)\n",
      "  (pool2): MaxPool1d(kernel_size=4, stride=4, padding=0, dilation=1, ceil_mode=False)\n",
      "  (conv3): Conv1d(32, 64, kernel_size=(3,), stride=(1,))\n",
      "  (bn3): BatchNorm1d(64, eps=1e-05, momentum=0.1, affine=True, track_running_stats=True)\n",
      "  (pool3): MaxPool1d(kernel_size=4, stride=4, padding=0, dilation=1, ceil_mode=False)\n",
      "  (conv4): Conv1d(64, 64, kernel_size=(3,), stride=(1,))\n",
      "  (bn4): BatchNorm1d(64, eps=1e-05, momentum=0.1, affine=True, track_running_stats=True)\n",
      "  (pool4): MaxPool1d(kernel_size=4, stride=4, padding=0, dilation=1, ceil_mode=False)\n",
      "  (fc1): Linear(in_features=64, out_features=2, bias=True)\n",
      ")\n",
      "Number of parameters: 24770\n"
     ]
    }
   ],
   "source": [
    "class M5(nn.Module):\n",
    "    def __init__(self, n_input=1, n_output=2, stride=16, n_channel=32):\n",
    "        super().__init__()\n",
    "        self.conv1 = nn.Conv1d(n_input, n_channel, kernel_size=80, stride=stride)\n",
    "        self.bn1 = nn.BatchNorm1d(n_channel)\n",
    "        self.pool1 = nn.MaxPool1d(4)\n",
    "        self.conv2 = nn.Conv1d(n_channel, n_channel, kernel_size=3)\n",
    "        self.bn2 = nn.BatchNorm1d(n_channel)\n",
    "        self.pool2 = nn.MaxPool1d(4)\n",
    "        self.conv3 = nn.Conv1d(n_channel, 2 * n_channel, kernel_size=3)\n",
    "        self.bn3 = nn.BatchNorm1d(2 * n_channel)\n",
    "        self.pool3 = nn.MaxPool1d(4)\n",
    "        self.conv4 = nn.Conv1d(2 * n_channel, 2 * n_channel, kernel_size=3)\n",
    "        self.bn4 = nn.BatchNorm1d(2 * n_channel)\n",
    "        self.pool4 = nn.MaxPool1d(4)\n",
    "        self.fc1 = nn.Linear(2 * n_channel, n_output)\n",
    "\n",
    "    def forward(self, x):\n",
    "        x = self.conv1(x)\n",
    "        x = F.relu(self.bn1(x))\n",
    "        x = self.pool1(x)\n",
    "        x = self.conv2(x)\n",
    "        x = F.relu(self.bn2(x))\n",
    "        x = self.pool2(x)\n",
    "        x = self.conv3(x)\n",
    "        x = F.relu(self.bn3(x))\n",
    "        x = self.pool3(x)\n",
    "        x = self.conv4(x)\n",
    "        x = F.relu(self.bn4(x))\n",
    "        x = self.pool4(x)\n",
    "        x = F.avg_pool1d(x, x.shape[-1])\n",
    "        x = x.permute(0, 2, 1)\n",
    "        x = self.fc1(x)\n",
    "        return F.log_softmax(x, dim=2)\n",
    "\n",
    "\n",
    "model = M5(n_input=transformed.shape[0], n_output=len(labels))\n",
    "model.to(device)\n",
    "print(model)\n",
    "\n",
    "\n",
    "def count_parameters(model):\n",
    "    return sum(p.numel() for p in model.parameters() if p.requires_grad)\n",
    "\n",
    "\n",
    "n = count_parameters(model)\n",
    "print(\"Number of parameters: %s\" % n)"
   ]
  },
  {
   "cell_type": "code",
   "execution_count": 12,
   "metadata": {},
   "outputs": [],
   "source": [
    "# # from torchvision import models\n",
    "# from torchsummary import summary\n",
    "\n",
    "# # vgg = M5()\n",
    "# summary(M5, (3, 224, 224))"
   ]
  },
  {
   "cell_type": "markdown",
   "metadata": {},
   "source": [
    "We will use the same optimization technique used in the paper, an Adam\n",
    "optimizer with weight decay set to 0.0001. At first, we will train with\n",
    "a learning rate of 0.01, but we will use a ``scheduler`` to decrease it\n",
    "to 0.001 during training after 20 epochs.\n",
    "\n",
    "\n"
   ]
  },
  {
   "cell_type": "code",
   "execution_count": 13,
   "metadata": {
    "collapsed": false,
    "jupyter": {
     "outputs_hidden": false
    }
   },
   "outputs": [],
   "source": [
    "optimizer = optim.Adam(model.parameters(), lr=0.001, weight_decay=0.0001)\n",
    "scheduler = optim.lr_scheduler.StepLR(optimizer, step_size=20, gamma=0.1)  # reduce the learning after 20 epochs by a factor of 10"
   ]
  },
  {
   "cell_type": "markdown",
   "metadata": {},
   "source": [
    "Training and Testing the Network\n",
    "--------------------------------\n",
    "\n",
    "Now let’s define a training function that will feed our training data\n",
    "into the model and perform the backward pass and optimization steps. For\n",
    "training, the loss we will use is the negative log-likelihood. The\n",
    "network will then be tested after each epoch to see how the accuracy\n",
    "varies during the training.\n",
    "\n",
    "\n"
   ]
  },
  {
   "cell_type": "code",
   "execution_count": 14,
   "metadata": {
    "collapsed": false,
    "jupyter": {
     "outputs_hidden": false
    }
   },
   "outputs": [],
   "source": [
    "def train(model, epoch, log_interval):\n",
    "    model.train()\n",
    "    for batch_idx, (data, target) in enumerate(train_loader):\n",
    "\n",
    "        data = data.to(device)\n",
    "        target = target.to(device)\n",
    "\n",
    "        # apply transform and model on whole batch directly on device\n",
    "        data = transform(data)\n",
    "        output = model(data)\n",
    "\n",
    "        # negative log-likelihood for a tensor of size (batch x 1 x n_output)\n",
    "        loss = F.nll_loss(output.squeeze(), target)\n",
    "\n",
    "        optimizer.zero_grad()\n",
    "        loss.backward()\n",
    "        optimizer.step()\n",
    "\n",
    "        # print training stats\n",
    "        if batch_idx % log_interval == 0:\n",
    "            print(f\"Train Epoch: {epoch} [{batch_idx * float(len(data))}/{len(train_loader.dataset)} ({100. * batch_idx / len(train_loader):.0f}%)]\\tLoss: {loss.item():.6f}\")\n",
    "#             print(f\"\\nTest Epoch: {epoch}\\tAccuracy: {correct}/{len(test_loader.dataset)} ({100. * correct / len(test_loader.dataset):.0f}%)\\n\")\n",
    "        # update progress bar\n",
    "        pbar.update(pbar_update)\n",
    "        # record loss\n",
    "        losses.append(loss.item())"
   ]
  },
  {
   "cell_type": "markdown",
   "metadata": {},
   "source": [
    "Now that we have a training function, we need to make one for testing\n",
    "the networks accuracy. We will set the model to ``eval()`` mode and then\n",
    "run inference on the test dataset. Calling ``eval()`` sets the training\n",
    "variable in all modules in the network to false. Certain layers like\n",
    "batch normalization and dropout layers behave differently during\n",
    "training so this step is crucial for getting correct results.\n",
    "\n",
    "\n"
   ]
  },
  {
   "cell_type": "code",
   "execution_count": 15,
   "metadata": {
    "collapsed": false,
    "jupyter": {
     "outputs_hidden": false
    }
   },
   "outputs": [],
   "source": [
    "def number_of_correct(pred, target):\n",
    "    # count number of correct predictions\n",
    "    return pred.squeeze().eq(target).sum().item()\n",
    "\n",
    "\n",
    "def get_likely_index(tensor):\n",
    "    # find most likely label index for each element in the batch\n",
    "    return tensor.argmax(dim=-1)\n",
    "\n",
    "\n",
    "def test(model, epoch):\n",
    "    model.eval()\n",
    "    correct = 0\n",
    "    for data, target in test_loader:\n",
    "\n",
    "        data = data.to(device)\n",
    "        target = target.to(device)\n",
    "\n",
    "        # apply transform and model on whole batch directly on device\n",
    "        data = transform(data)\n",
    "        output = model(data)\n",
    "\n",
    "        pred = get_likely_index(output)\n",
    "        correct += number_of_correct(pred, target)\n",
    "\n",
    "        # update progress bar\n",
    "        pbar.update(pbar_update)\n",
    "\n",
    "    print(f\"\\nTest Epoch: {epoch}\\tAccuracy: {correct}/{len(test_loader.dataset)} ({100. * correct / len(test_loader.dataset):.0f}%)\\n\")"
   ]
  },
  {
   "cell_type": "code",
   "execution_count": 16,
   "metadata": {},
   "outputs": [],
   "source": [
    "from tqdm import tqdm"
   ]
  },
  {
   "cell_type": "markdown",
   "metadata": {},
   "source": [
    "Finally, we can train and test the network. We will train the network\n",
    "for ten epochs then reduce the learn rate and train for ten more epochs.\n",
    "The network will be tested after each epoch to see how the accuracy\n",
    "varies during the training.\n",
    "\n",
    "\n"
   ]
  },
  {
   "cell_type": "code",
   "execution_count": 17,
   "metadata": {
    "tags": []
   },
   "outputs": [
    {
     "name": "stderr",
     "output_type": "stream",
     "text": [
      "  0%|          | 0/20 [00:00<?, ?it/s]/home/achint/anaconda3/envs/cuda/lib/python3.8/site-packages/torch/nn/functional.py:652: UserWarning: Named tensors and all their associated APIs are an experimental feature and subject to change. Please do not use them for anything important until they are released as stable. (Triggered internally at  /opt/conda/conda-bld/pytorch_1623448234945/work/c10/core/TensorImpl.h:1156.)\n",
      "  return torch.max_pool1d(input, kernel_size, stride, padding, dilation, ceil_mode)\n",
      "  0%|          | 0.07692307692307693/20 [00:00<03:27, 10.39s/it]"
     ]
    },
    {
     "name": "stdout",
     "output_type": "stream",
     "text": [
      "Train Epoch: 1 [0.0/3030 (0%)]\tLoss: 0.768797\n"
     ]
    },
    {
     "name": "stderr",
     "output_type": "stream",
     "text": [
      "  5%|▌         | 1.0769230769230766/20 [00:03<00:56,  3.00s/it] "
     ]
    },
    {
     "name": "stdout",
     "output_type": "stream",
     "text": [
      "\n",
      "Test Epoch: 1\tAccuracy: 88/194 (45%)\n",
      "\n",
      "Train Epoch: 2 [0.0/3030 (0%)]\tLoss: 0.070548\n"
     ]
    },
    {
     "name": "stderr",
     "output_type": "stream",
     "text": [
      " 10%|█         | 2.076923076923076/20 [00:06<00:53,  2.96s/it] "
     ]
    },
    {
     "name": "stdout",
     "output_type": "stream",
     "text": [
      "\n",
      "Test Epoch: 2\tAccuracy: 88/194 (45%)\n",
      "\n",
      "Train Epoch: 3 [0.0/3030 (0%)]\tLoss: 0.016576\n"
     ]
    },
    {
     "name": "stderr",
     "output_type": "stream",
     "text": [
      " 15%|█▌        | 3.0769230769230784/20 [00:08<00:49,  2.93s/it]"
     ]
    },
    {
     "name": "stdout",
     "output_type": "stream",
     "text": [
      "\n",
      "Test Epoch: 3\tAccuracy: 88/194 (45%)\n",
      "\n",
      "Train Epoch: 4 [0.0/3030 (0%)]\tLoss: 0.007558\n"
     ]
    },
    {
     "name": "stderr",
     "output_type": "stream",
     "text": [
      " 20%|██        | 4.07692307692308/20 [00:11<00:46,  2.91s/it]  "
     ]
    },
    {
     "name": "stdout",
     "output_type": "stream",
     "text": [
      "\n",
      "Test Epoch: 4\tAccuracy: 88/194 (45%)\n",
      "\n",
      "Train Epoch: 5 [0.0/3030 (0%)]\tLoss: 0.005325\n"
     ]
    },
    {
     "name": "stderr",
     "output_type": "stream",
     "text": [
      " 25%|██▌       | 5.076923076923077/20 [00:13<00:42,  2.86s/it] "
     ]
    },
    {
     "name": "stdout",
     "output_type": "stream",
     "text": [
      "\n",
      "Test Epoch: 5\tAccuracy: 88/194 (45%)\n",
      "\n",
      "Train Epoch: 6 [0.0/3030 (0%)]\tLoss: 0.003677\n"
     ]
    },
    {
     "name": "stderr",
     "output_type": "stream",
     "text": [
      " 30%|███       | 6.076923076923073/20 [00:16<00:39,  2.86s/it] "
     ]
    },
    {
     "name": "stdout",
     "output_type": "stream",
     "text": [
      "\n",
      "Test Epoch: 6\tAccuracy: 88/194 (45%)\n",
      "\n",
      "Train Epoch: 7 [0.0/3030 (0%)]\tLoss: 0.002960\n"
     ]
    },
    {
     "name": "stderr",
     "output_type": "stream",
     "text": [
      " 35%|███▌      | 7.0769230769230695/20 [00:18<00:37,  2.90s/it]"
     ]
    },
    {
     "name": "stdout",
     "output_type": "stream",
     "text": [
      "\n",
      "Test Epoch: 7\tAccuracy: 91/194 (47%)\n",
      "\n",
      "Train Epoch: 8 [0.0/3030 (0%)]\tLoss: 0.002528\n"
     ]
    },
    {
     "name": "stderr",
     "output_type": "stream",
     "text": [
      " 40%|███▉      | 7.999999999999989/20 [00:21<00:39,  3.28s/it] "
     ]
    },
    {
     "name": "stdout",
     "output_type": "stream",
     "text": [
      "\n",
      "Test Epoch: 8\tAccuracy: 178/194 (92%)\n",
      "\n"
     ]
    },
    {
     "name": "stderr",
     "output_type": "stream",
     "text": [
      " 40%|████      | 8.076923076923066/20 [00:21<00:37,  3.11s/it]"
     ]
    },
    {
     "name": "stdout",
     "output_type": "stream",
     "text": [
      "Train Epoch: 9 [0.0/3030 (0%)]\tLoss: 0.002031\n"
     ]
    },
    {
     "name": "stderr",
     "output_type": "stream",
     "text": [
      " 45%|████▍     | 8.999999999999986/20 [00:23<00:36,  3.28s/it]"
     ]
    },
    {
     "name": "stdout",
     "output_type": "stream",
     "text": [
      "\n",
      "Test Epoch: 9\tAccuracy: 194/194 (100%)\n",
      "\n"
     ]
    },
    {
     "name": "stderr",
     "output_type": "stream",
     "text": [
      " 45%|████▌     | 9.076923076923062/20 [00:23<00:34,  3.14s/it]"
     ]
    },
    {
     "name": "stdout",
     "output_type": "stream",
     "text": [
      "Train Epoch: 10 [0.0/3030 (0%)]\tLoss: 0.002117\n"
     ]
    },
    {
     "name": "stderr",
     "output_type": "stream",
     "text": [
      " 50%|████▉     | 9.999999999999982/20 [00:26<00:34,  3.42s/it]"
     ]
    },
    {
     "name": "stdout",
     "output_type": "stream",
     "text": [
      "\n",
      "Test Epoch: 10\tAccuracy: 194/194 (100%)\n",
      "\n"
     ]
    },
    {
     "name": "stderr",
     "output_type": "stream",
     "text": [
      " 50%|█████     | 10.076923076923059/20 [00:26<00:32,  3.26s/it]"
     ]
    },
    {
     "name": "stdout",
     "output_type": "stream",
     "text": [
      "Train Epoch: 11 [0.0/3030 (0%)]\tLoss: 0.001935\n"
     ]
    },
    {
     "name": "stderr",
     "output_type": "stream",
     "text": [
      " 55%|█████▌    | 11.076923076923055/20 [00:29<00:26,  2.96s/it]"
     ]
    },
    {
     "name": "stdout",
     "output_type": "stream",
     "text": [
      "\n",
      "Test Epoch: 11\tAccuracy: 194/194 (100%)\n",
      "\n",
      "Train Epoch: 12 [0.0/3030 (0%)]\tLoss: 0.001608\n"
     ]
    },
    {
     "name": "stderr",
     "output_type": "stream",
     "text": [
      " 60%|██████    | 12.076923076923052/20 [00:31<00:24,  3.12s/it]"
     ]
    },
    {
     "name": "stdout",
     "output_type": "stream",
     "text": [
      "\n",
      "Test Epoch: 12\tAccuracy: 194/194 (100%)\n",
      "\n",
      "Train Epoch: 13 [0.0/3030 (0%)]\tLoss: 0.001337\n"
     ]
    },
    {
     "name": "stderr",
     "output_type": "stream",
     "text": [
      " 65%|██████▌   | 13.076923076923048/20 [00:34<00:20,  3.03s/it]"
     ]
    },
    {
     "name": "stdout",
     "output_type": "stream",
     "text": [
      "\n",
      "Test Epoch: 13\tAccuracy: 194/194 (100%)\n",
      "\n",
      "Train Epoch: 14 [0.0/3030 (0%)]\tLoss: 0.001179\n"
     ]
    },
    {
     "name": "stderr",
     "output_type": "stream",
     "text": [
      " 70%|███████   | 14.076923076923045/20 [00:37<00:18,  3.05s/it]"
     ]
    },
    {
     "name": "stdout",
     "output_type": "stream",
     "text": [
      "\n",
      "Test Epoch: 14\tAccuracy: 194/194 (100%)\n",
      "\n",
      "Train Epoch: 15 [0.0/3030 (0%)]\tLoss: 0.001113\n"
     ]
    },
    {
     "name": "stderr",
     "output_type": "stream",
     "text": [
      " 75%|███████▍  | 14.999999999999964/20 [00:39<00:16,  3.23s/it]"
     ]
    },
    {
     "name": "stdout",
     "output_type": "stream",
     "text": [
      "\n",
      "Test Epoch: 15\tAccuracy: 194/194 (100%)\n",
      "\n"
     ]
    },
    {
     "name": "stderr",
     "output_type": "stream",
     "text": [
      " 75%|███████▌  | 15.076923076923041/20 [00:39<00:15,  3.11s/it]"
     ]
    },
    {
     "name": "stdout",
     "output_type": "stream",
     "text": [
      "Train Epoch: 16 [0.0/3030 (0%)]\tLoss: 0.001201\n"
     ]
    },
    {
     "name": "stderr",
     "output_type": "stream",
     "text": [
      " 80%|███████▉  | 15.999999999999961/20 [00:42<00:12,  3.20s/it]"
     ]
    },
    {
     "name": "stdout",
     "output_type": "stream",
     "text": [
      "\n",
      "Test Epoch: 16\tAccuracy: 194/194 (100%)\n",
      "\n"
     ]
    },
    {
     "name": "stderr",
     "output_type": "stream",
     "text": [
      " 80%|████████  | 16.076923076923038/20 [00:42<00:12,  3.09s/it]"
     ]
    },
    {
     "name": "stdout",
     "output_type": "stream",
     "text": [
      "Train Epoch: 17 [0.0/3030 (0%)]\tLoss: 0.000940\n"
     ]
    },
    {
     "name": "stderr",
     "output_type": "stream",
     "text": [
      " 85%|████████▍ | 16.999999999999957/20 [00:44<00:09,  3.18s/it]"
     ]
    },
    {
     "name": "stdout",
     "output_type": "stream",
     "text": [
      "\n",
      "Test Epoch: 17\tAccuracy: 194/194 (100%)\n",
      "\n"
     ]
    },
    {
     "name": "stderr",
     "output_type": "stream",
     "text": [
      " 85%|████████▌ | 17.076923076923034/20 [00:45<00:08,  3.07s/it]"
     ]
    },
    {
     "name": "stdout",
     "output_type": "stream",
     "text": [
      "Train Epoch: 18 [0.0/3030 (0%)]\tLoss: 0.000871\n"
     ]
    },
    {
     "name": "stderr",
     "output_type": "stream",
     "text": [
      " 90%|████████▉ | 17.999999999999954/20 [00:47<00:06,  3.17s/it]"
     ]
    },
    {
     "name": "stdout",
     "output_type": "stream",
     "text": [
      "\n",
      "Test Epoch: 18\tAccuracy: 194/194 (100%)\n",
      "\n"
     ]
    },
    {
     "name": "stderr",
     "output_type": "stream",
     "text": [
      " 90%|█████████ | 18.07692307692303/20 [00:47<00:05,  3.05s/it] "
     ]
    },
    {
     "name": "stdout",
     "output_type": "stream",
     "text": [
      "Train Epoch: 19 [0.0/3030 (0%)]\tLoss: 0.000876\n"
     ]
    },
    {
     "name": "stderr",
     "output_type": "stream",
     "text": [
      " 95%|█████████▌| 19.076923076923027/20 [00:50<00:02,  3.00s/it]"
     ]
    },
    {
     "name": "stdout",
     "output_type": "stream",
     "text": [
      "\n",
      "Test Epoch: 19\tAccuracy: 194/194 (100%)\n",
      "\n",
      "Train Epoch: 20 [0.0/3030 (0%)]\tLoss: 0.000690\n"
     ]
    },
    {
     "name": "stderr",
     "output_type": "stream",
     "text": [
      "100%|█████████▉| 19.999999999999947/20 [00:52<00:00,  2.63s/it]"
     ]
    },
    {
     "name": "stdout",
     "output_type": "stream",
     "text": [
      "\n",
      "Test Epoch: 20\tAccuracy: 194/194 (100%)\n",
      "\n"
     ]
    },
    {
     "name": "stderr",
     "output_type": "stream",
     "text": [
      "\n"
     ]
    }
   ],
   "source": [
    "log_interval = 20\n",
    "n_epoch = 20\n",
    "\n",
    "pbar_update = 1 / (len(train_loader) + len(test_loader))\n",
    "losses = []\n",
    "\n",
    "# The transform needs to live on the same device as the model and the data.\n",
    "transform = transform.to(device)\n",
    "with tqdm(total=n_epoch) as pbar:\n",
    "    for epoch in range(1, n_epoch + 1):\n",
    "        train(model, epoch, log_interval)\n",
    "        test(model, epoch)\n",
    "        scheduler.step()"
   ]
  },
  {
   "cell_type": "code",
   "execution_count": 18,
   "metadata": {
    "tags": []
   },
   "outputs": [
    {
     "data": {
      "image/png": "[encoded data removed]",
      "text/plain": [
       "<Figure size 432x288 with 1 Axes>"
      ]
     },
     "metadata": {
      "needs_background": "light"
     },
     "output_type": "display_data"
    }
   ],
   "source": [
    "# Let's plot the training loss versus the number of iteration.\n",
    "plt.plot(losses);\n",
    "plt.title(\"training loss\");"
   ]
  },
  {
   "cell_type": "code",
   "execution_count": 19,
   "metadata": {},
   "outputs": [],
   "source": [
    "torch.save(model, 'vc/inspectbot-fin.pt')"
   ]
  },
  {
   "cell_type": "markdown",
   "metadata": {},
   "source": [
    "\n",
    "The network should be more than 65% accurate on the test set after 2\n",
    "epochs, and 85% after 21 epochs. Let’s look at the last words in the\n",
    "train set, and see how the model did on it.\n",
    "\n",
    "\n"
   ]
  },
  {
   "cell_type": "code",
   "execution_count": 20,
   "metadata": {},
   "outputs": [],
   "source": [
    "import io\n",
    "import os\n",
    "import math\n",
    "import tarfile\n",
    "import multiprocessing\n",
    "\n",
    "import scipy\n",
    "import librosa\n",
    "import boto3\n",
    "from botocore import UNSIGNED \n",
    "from botocore.config import Config\n",
    "import requests\n",
    "import matplotlib\n",
    "import matplotlib.pyplot as plt\n",
    "import pandas as pd\n",
    "import time\n",
    "from IPython.display import Audio, display\n",
    "# import torchaudio.functional as F\n",
    "import torchaudio.transforms as T"
   ]
  },
  {
   "cell_type": "code",
   "execution_count": 25,
   "metadata": {
    "collapsed": false,
    "jupyter": {
     "outputs_hidden": false
    }
   },
   "outputs": [
    {
     "name": "stdout",
     "output_type": "stream",
     "text": [
      "Expected: MM. Predicted: MM.\n"
     ]
    }
   ],
   "source": [
    "def predict(tensor):\n",
    "    # Use the model to predict the label of the waveform\n",
    "    tensor = tensor.to(device)\n",
    "    tensor = transform(tensor)\n",
    "    tensor = model(tensor.unsqueeze(0))\n",
    "    tensor = get_likely_index(tensor)\n",
    "    tensor = index_to_label(tensor.squeeze())\n",
    "    return tensor\n",
    "\n",
    "\n",
    "# waveform, sample_rate, utterance, *_ = test_set[25]\n",
    "# print(sample_rate)\n",
    "waveform,sample_rate=torchaudio.load('vc/inspectbot-augmented/MM-1032.wav')\n",
    "resampler = T.Resample(sample_rate, 21967, dtype=waveform.dtype)\n",
    "resampled_waveform = resampler(waveform)\n",
    "# print(sample_rate)\n",
    "# plot_waveform(waveform, sample_rate)\n",
    "ipd.Audio(waveform.numpy(), rate=sample_rate)\n",
    "\n",
    "print(f\"Expected: {utterance}. Predicted: {predict(resampled_waveform)}.\")"
   ]
  },
  {
   "cell_type": "markdown",
   "metadata": {},
   "source": [
    "Let’s find an example that isn’t classified correctly, if there is one.\n",
    "\n",
    "\n"
   ]
  },
  {
   "cell_type": "code",
   "execution_count": 24,
   "metadata": {
    "collapsed": false,
    "jupyter": {
     "outputs_hidden": false
    }
   },
   "outputs": [
    {
     "name": "stdout",
     "output_type": "stream",
     "text": [
      "All examples in this dataset were correctly classified!\n",
      "In this case, let's just look at the last data point\n",
      "Data point #3029. Expected: MM. Predicted: MM.\n"
     ]
    }
   ],
   "source": [
    "for i, (waveform, sample_rate, utterance, *_) in enumerate(train_set):\n",
    "    output = predict(waveform)\n",
    "    if output != utterance:\n",
    "        ipd.Audio(waveform.numpy(), rate=sample_rate)\n",
    "        print(f\"Data point #{i}. Expected: {utterance}. Predicted: {output}.\")\n",
    "        break\n",
    "else:\n",
    "    print(\"All examples in this dataset were correctly classified!\")\n",
    "    print(\"In this case, let's just look at the last data point\")\n",
    "    ipd.Audio(waveform.numpy(), rate=sample_rate)\n",
    "    print(f\"Data point #{i}. Expected: {utterance}. Predicted: {output}.\")"
   ]
  },
  {
   "cell_type": "markdown",
   "metadata": {},
   "source": [
    "Feel free to try with one of your own recordings of one of the labels!\n",
    "For example, using Colab, say “Go” while executing the cell below. This\n",
    "will record one second of audio and try to classify it.\n",
    "\n",
    "\n"
   ]
  },
  {
   "cell_type": "code",
   "execution_count": null,
   "metadata": {},
   "outputs": [],
   "source": []
  }
 ],
 "metadata": {
  "kernelspec": {
   "display_name": "Python 3 (ipykernel)",
   "language": "python",
   "name": "python3"
  },
  "language_info": {
   "codemirror_mode": {
    "name": "ipython",
    "version": 3
   },
   "file_extension": ".py",
   "mimetype": "text/x-python",
   "name": "python",
   "nbconvert_exporter": "python",
   "pygments_lexer": "ipython3",
   "version": "3.8.11"
  }
 },
 "nbformat": 4,
 "nbformat_minor": 4
}
